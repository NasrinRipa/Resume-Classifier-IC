{
  "nbformat": 4,
  "nbformat_minor": 0,
  "metadata": {
    "colab": {
      "provenance": []
    },
    "kernelspec": {
      "name": "python3",
      "display_name": "Python 3"
    },
    "language_info": {
      "name": "python"
    },
    "widgets": {
      "application/vnd.jupyter.widget-state+json": {
        "008d454496c04c578eb056ab17cf0091": {
          "model_module": "@jupyter-widgets/controls",
          "model_name": "HBoxModel",
          "model_module_version": "1.5.0",
          "state": {
            "_dom_classes": [],
            "_model_module": "@jupyter-widgets/controls",
            "_model_module_version": "1.5.0",
            "_model_name": "HBoxModel",
            "_view_count": null,
            "_view_module": "@jupyter-widgets/controls",
            "_view_module_version": "1.5.0",
            "_view_name": "HBoxView",
            "box_style": "",
            "children": [
              "IPY_MODEL_a93effc57a17434ea6328fc54bd7e720",
              "IPY_MODEL_72766caed3ec49c48c35dcbb9131e67e",
              "IPY_MODEL_85d68297804543a6ada270fd620fb8c6"
            ],
            "layout": "IPY_MODEL_9227d4555d2c42a8b3cf5041e00d888b"
          }
        },
        "a93effc57a17434ea6328fc54bd7e720": {
          "model_module": "@jupyter-widgets/controls",
          "model_name": "HTMLModel",
          "model_module_version": "1.5.0",
          "state": {
            "_dom_classes": [],
            "_model_module": "@jupyter-widgets/controls",
            "_model_module_version": "1.5.0",
            "_model_name": "HTMLModel",
            "_view_count": null,
            "_view_module": "@jupyter-widgets/controls",
            "_view_module_version": "1.5.0",
            "_view_name": "HTMLView",
            "description": "",
            "description_tooltip": null,
            "layout": "IPY_MODEL_12842cd515154fd088788afc194fb21e",
            "placeholder": "​",
            "style": "IPY_MODEL_071b8b7ba5a54f35b48d4d08ca265b94",
            "value": "Downloading builder script: "
          }
        },
        "72766caed3ec49c48c35dcbb9131e67e": {
          "model_module": "@jupyter-widgets/controls",
          "model_name": "FloatProgressModel",
          "model_module_version": "1.5.0",
          "state": {
            "_dom_classes": [],
            "_model_module": "@jupyter-widgets/controls",
            "_model_module_version": "1.5.0",
            "_model_name": "FloatProgressModel",
            "_view_count": null,
            "_view_module": "@jupyter-widgets/controls",
            "_view_module_version": "1.5.0",
            "_view_name": "ProgressView",
            "bar_style": "success",
            "description": "",
            "description_tooltip": null,
            "layout": "IPY_MODEL_b5ed0b5765f940bfa8458423f55f59b7",
            "max": 1715,
            "min": 0,
            "orientation": "horizontal",
            "style": "IPY_MODEL_ca5f7f495e294342b7db77e0ad653a7d",
            "value": 1715
          }
        },
        "85d68297804543a6ada270fd620fb8c6": {
          "model_module": "@jupyter-widgets/controls",
          "model_name": "HTMLModel",
          "model_module_version": "1.5.0",
          "state": {
            "_dom_classes": [],
            "_model_module": "@jupyter-widgets/controls",
            "_model_module_version": "1.5.0",
            "_model_name": "HTMLModel",
            "_view_count": null,
            "_view_module": "@jupyter-widgets/controls",
            "_view_module_version": "1.5.0",
            "_view_name": "HTMLView",
            "description": "",
            "description_tooltip": null,
            "layout": "IPY_MODEL_d2114dfdf5774e20a72736cf0f78e0d6",
            "placeholder": "​",
            "style": "IPY_MODEL_31bf1cf473f24f5498d5aba4cea2fea2",
            "value": " 4.50k/? [00:00&lt;00:00, 171kB/s]"
          }
        },
        "9227d4555d2c42a8b3cf5041e00d888b": {
          "model_module": "@jupyter-widgets/base",
          "model_name": "LayoutModel",
          "model_module_version": "1.2.0",
          "state": {
            "_model_module": "@jupyter-widgets/base",
            "_model_module_version": "1.2.0",
            "_model_name": "LayoutModel",
            "_view_count": null,
            "_view_module": "@jupyter-widgets/base",
            "_view_module_version": "1.2.0",
            "_view_name": "LayoutView",
            "align_content": null,
            "align_items": null,
            "align_self": null,
            "border": null,
            "bottom": null,
            "display": null,
            "flex": null,
            "flex_flow": null,
            "grid_area": null,
            "grid_auto_columns": null,
            "grid_auto_flow": null,
            "grid_auto_rows": null,
            "grid_column": null,
            "grid_gap": null,
            "grid_row": null,
            "grid_template_areas": null,
            "grid_template_columns": null,
            "grid_template_rows": null,
            "height": null,
            "justify_content": null,
            "justify_items": null,
            "left": null,
            "margin": null,
            "max_height": null,
            "max_width": null,
            "min_height": null,
            "min_width": null,
            "object_fit": null,
            "object_position": null,
            "order": null,
            "overflow": null,
            "overflow_x": null,
            "overflow_y": null,
            "padding": null,
            "right": null,
            "top": null,
            "visibility": null,
            "width": null
          }
        },
        "12842cd515154fd088788afc194fb21e": {
          "model_module": "@jupyter-widgets/base",
          "model_name": "LayoutModel",
          "model_module_version": "1.2.0",
          "state": {
            "_model_module": "@jupyter-widgets/base",
            "_model_module_version": "1.2.0",
            "_model_name": "LayoutModel",
            "_view_count": null,
            "_view_module": "@jupyter-widgets/base",
            "_view_module_version": "1.2.0",
            "_view_name": "LayoutView",
            "align_content": null,
            "align_items": null,
            "align_self": null,
            "border": null,
            "bottom": null,
            "display": null,
            "flex": null,
            "flex_flow": null,
            "grid_area": null,
            "grid_auto_columns": null,
            "grid_auto_flow": null,
            "grid_auto_rows": null,
            "grid_column": null,
            "grid_gap": null,
            "grid_row": null,
            "grid_template_areas": null,
            "grid_template_columns": null,
            "grid_template_rows": null,
            "height": null,
            "justify_content": null,
            "justify_items": null,
            "left": null,
            "margin": null,
            "max_height": null,
            "max_width": null,
            "min_height": null,
            "min_width": null,
            "object_fit": null,
            "object_position": null,
            "order": null,
            "overflow": null,
            "overflow_x": null,
            "overflow_y": null,
            "padding": null,
            "right": null,
            "top": null,
            "visibility": null,
            "width": null
          }
        },
        "071b8b7ba5a54f35b48d4d08ca265b94": {
          "model_module": "@jupyter-widgets/controls",
          "model_name": "DescriptionStyleModel",
          "model_module_version": "1.5.0",
          "state": {
            "_model_module": "@jupyter-widgets/controls",
            "_model_module_version": "1.5.0",
            "_model_name": "DescriptionStyleModel",
            "_view_count": null,
            "_view_module": "@jupyter-widgets/base",
            "_view_module_version": "1.2.0",
            "_view_name": "StyleView",
            "description_width": ""
          }
        },
        "b5ed0b5765f940bfa8458423f55f59b7": {
          "model_module": "@jupyter-widgets/base",
          "model_name": "LayoutModel",
          "model_module_version": "1.2.0",
          "state": {
            "_model_module": "@jupyter-widgets/base",
            "_model_module_version": "1.2.0",
            "_model_name": "LayoutModel",
            "_view_count": null,
            "_view_module": "@jupyter-widgets/base",
            "_view_module_version": "1.2.0",
            "_view_name": "LayoutView",
            "align_content": null,
            "align_items": null,
            "align_self": null,
            "border": null,
            "bottom": null,
            "display": null,
            "flex": null,
            "flex_flow": null,
            "grid_area": null,
            "grid_auto_columns": null,
            "grid_auto_flow": null,
            "grid_auto_rows": null,
            "grid_column": null,
            "grid_gap": null,
            "grid_row": null,
            "grid_template_areas": null,
            "grid_template_columns": null,
            "grid_template_rows": null,
            "height": null,
            "justify_content": null,
            "justify_items": null,
            "left": null,
            "margin": null,
            "max_height": null,
            "max_width": null,
            "min_height": null,
            "min_width": null,
            "object_fit": null,
            "object_position": null,
            "order": null,
            "overflow": null,
            "overflow_x": null,
            "overflow_y": null,
            "padding": null,
            "right": null,
            "top": null,
            "visibility": null,
            "width": null
          }
        },
        "ca5f7f495e294342b7db77e0ad653a7d": {
          "model_module": "@jupyter-widgets/controls",
          "model_name": "ProgressStyleModel",
          "model_module_version": "1.5.0",
          "state": {
            "_model_module": "@jupyter-widgets/controls",
            "_model_module_version": "1.5.0",
            "_model_name": "ProgressStyleModel",
            "_view_count": null,
            "_view_module": "@jupyter-widgets/base",
            "_view_module_version": "1.2.0",
            "_view_name": "StyleView",
            "bar_color": null,
            "description_width": ""
          }
        },
        "d2114dfdf5774e20a72736cf0f78e0d6": {
          "model_module": "@jupyter-widgets/base",
          "model_name": "LayoutModel",
          "model_module_version": "1.2.0",
          "state": {
            "_model_module": "@jupyter-widgets/base",
            "_model_module_version": "1.2.0",
            "_model_name": "LayoutModel",
            "_view_count": null,
            "_view_module": "@jupyter-widgets/base",
            "_view_module_version": "1.2.0",
            "_view_name": "LayoutView",
            "align_content": null,
            "align_items": null,
            "align_self": null,
            "border": null,
            "bottom": null,
            "display": null,
            "flex": null,
            "flex_flow": null,
            "grid_area": null,
            "grid_auto_columns": null,
            "grid_auto_flow": null,
            "grid_auto_rows": null,
            "grid_column": null,
            "grid_gap": null,
            "grid_row": null,
            "grid_template_areas": null,
            "grid_template_columns": null,
            "grid_template_rows": null,
            "height": null,
            "justify_content": null,
            "justify_items": null,
            "left": null,
            "margin": null,
            "max_height": null,
            "max_width": null,
            "min_height": null,
            "min_width": null,
            "object_fit": null,
            "object_position": null,
            "order": null,
            "overflow": null,
            "overflow_x": null,
            "overflow_y": null,
            "padding": null,
            "right": null,
            "top": null,
            "visibility": null,
            "width": null
          }
        },
        "31bf1cf473f24f5498d5aba4cea2fea2": {
          "model_module": "@jupyter-widgets/controls",
          "model_name": "DescriptionStyleModel",
          "model_module_version": "1.5.0",
          "state": {
            "_model_module": "@jupyter-widgets/controls",
            "_model_module_version": "1.5.0",
            "_model_name": "DescriptionStyleModel",
            "_view_count": null,
            "_view_module": "@jupyter-widgets/base",
            "_view_module_version": "1.2.0",
            "_view_name": "StyleView",
            "description_width": ""
          }
        },
        "5f4967f89a2c4ff996d0571b12c6a3bf": {
          "model_module": "@jupyter-widgets/controls",
          "model_name": "HBoxModel",
          "model_module_version": "1.5.0",
          "state": {
            "_dom_classes": [],
            "_model_module": "@jupyter-widgets/controls",
            "_model_module_version": "1.5.0",
            "_model_name": "HBoxModel",
            "_view_count": null,
            "_view_module": "@jupyter-widgets/controls",
            "_view_module_version": "1.5.0",
            "_view_name": "HBoxView",
            "box_style": "",
            "children": [
              "IPY_MODEL_26e7c58d4f1a467c85abc25a67f6dbca",
              "IPY_MODEL_c1a049fcc295413c89198e6fecc2295b",
              "IPY_MODEL_8239f6e171804835a6921a7442f0a9b0"
            ],
            "layout": "IPY_MODEL_93c6d27cc9754bed814864e8d496ea49"
          }
        },
        "26e7c58d4f1a467c85abc25a67f6dbca": {
          "model_module": "@jupyter-widgets/controls",
          "model_name": "HTMLModel",
          "model_module_version": "1.5.0",
          "state": {
            "_dom_classes": [],
            "_model_module": "@jupyter-widgets/controls",
            "_model_module_version": "1.5.0",
            "_model_name": "HTMLModel",
            "_view_count": null,
            "_view_module": "@jupyter-widgets/controls",
            "_view_module_version": "1.5.0",
            "_view_name": "HTMLView",
            "description": "",
            "description_tooltip": null,
            "layout": "IPY_MODEL_100f6667b7b843d4987434e44896dde3",
            "placeholder": "​",
            "style": "IPY_MODEL_2fbc7c95df24435ab8e5a5d5cf630596",
            "value": "Downloading extra modules: "
          }
        },
        "c1a049fcc295413c89198e6fecc2295b": {
          "model_module": "@jupyter-widgets/controls",
          "model_name": "FloatProgressModel",
          "model_module_version": "1.5.0",
          "state": {
            "_dom_classes": [],
            "_model_module": "@jupyter-widgets/controls",
            "_model_module_version": "1.5.0",
            "_model_name": "FloatProgressModel",
            "_view_count": null,
            "_view_module": "@jupyter-widgets/controls",
            "_view_module_version": "1.5.0",
            "_view_name": "ProgressView",
            "bar_style": "success",
            "description": "",
            "description_tooltip": null,
            "layout": "IPY_MODEL_fd20137a6208495a9788f33f8344c196",
            "max": 1109,
            "min": 0,
            "orientation": "horizontal",
            "style": "IPY_MODEL_c0e2906444c14549ad6251133b37836e",
            "value": 1109
          }
        },
        "8239f6e171804835a6921a7442f0a9b0": {
          "model_module": "@jupyter-widgets/controls",
          "model_name": "HTMLModel",
          "model_module_version": "1.5.0",
          "state": {
            "_dom_classes": [],
            "_model_module": "@jupyter-widgets/controls",
            "_model_module_version": "1.5.0",
            "_model_name": "HTMLModel",
            "_view_count": null,
            "_view_module": "@jupyter-widgets/controls",
            "_view_module_version": "1.5.0",
            "_view_name": "HTMLView",
            "description": "",
            "description_tooltip": null,
            "layout": "IPY_MODEL_e7a4d39ac41e4d8a982a75218d590187",
            "placeholder": "​",
            "style": "IPY_MODEL_c7897ed0e27c4e88bacc112a0235d0b0",
            "value": " 3.30k/? [00:00&lt;00:00, 131kB/s]"
          }
        },
        "93c6d27cc9754bed814864e8d496ea49": {
          "model_module": "@jupyter-widgets/base",
          "model_name": "LayoutModel",
          "model_module_version": "1.2.0",
          "state": {
            "_model_module": "@jupyter-widgets/base",
            "_model_module_version": "1.2.0",
            "_model_name": "LayoutModel",
            "_view_count": null,
            "_view_module": "@jupyter-widgets/base",
            "_view_module_version": "1.2.0",
            "_view_name": "LayoutView",
            "align_content": null,
            "align_items": null,
            "align_self": null,
            "border": null,
            "bottom": null,
            "display": null,
            "flex": null,
            "flex_flow": null,
            "grid_area": null,
            "grid_auto_columns": null,
            "grid_auto_flow": null,
            "grid_auto_rows": null,
            "grid_column": null,
            "grid_gap": null,
            "grid_row": null,
            "grid_template_areas": null,
            "grid_template_columns": null,
            "grid_template_rows": null,
            "height": null,
            "justify_content": null,
            "justify_items": null,
            "left": null,
            "margin": null,
            "max_height": null,
            "max_width": null,
            "min_height": null,
            "min_width": null,
            "object_fit": null,
            "object_position": null,
            "order": null,
            "overflow": null,
            "overflow_x": null,
            "overflow_y": null,
            "padding": null,
            "right": null,
            "top": null,
            "visibility": null,
            "width": null
          }
        },
        "100f6667b7b843d4987434e44896dde3": {
          "model_module": "@jupyter-widgets/base",
          "model_name": "LayoutModel",
          "model_module_version": "1.2.0",
          "state": {
            "_model_module": "@jupyter-widgets/base",
            "_model_module_version": "1.2.0",
            "_model_name": "LayoutModel",
            "_view_count": null,
            "_view_module": "@jupyter-widgets/base",
            "_view_module_version": "1.2.0",
            "_view_name": "LayoutView",
            "align_content": null,
            "align_items": null,
            "align_self": null,
            "border": null,
            "bottom": null,
            "display": null,
            "flex": null,
            "flex_flow": null,
            "grid_area": null,
            "grid_auto_columns": null,
            "grid_auto_flow": null,
            "grid_auto_rows": null,
            "grid_column": null,
            "grid_gap": null,
            "grid_row": null,
            "grid_template_areas": null,
            "grid_template_columns": null,
            "grid_template_rows": null,
            "height": null,
            "justify_content": null,
            "justify_items": null,
            "left": null,
            "margin": null,
            "max_height": null,
            "max_width": null,
            "min_height": null,
            "min_width": null,
            "object_fit": null,
            "object_position": null,
            "order": null,
            "overflow": null,
            "overflow_x": null,
            "overflow_y": null,
            "padding": null,
            "right": null,
            "top": null,
            "visibility": null,
            "width": null
          }
        },
        "2fbc7c95df24435ab8e5a5d5cf630596": {
          "model_module": "@jupyter-widgets/controls",
          "model_name": "DescriptionStyleModel",
          "model_module_version": "1.5.0",
          "state": {
            "_model_module": "@jupyter-widgets/controls",
            "_model_module_version": "1.5.0",
            "_model_name": "DescriptionStyleModel",
            "_view_count": null,
            "_view_module": "@jupyter-widgets/base",
            "_view_module_version": "1.2.0",
            "_view_name": "StyleView",
            "description_width": ""
          }
        },
        "fd20137a6208495a9788f33f8344c196": {
          "model_module": "@jupyter-widgets/base",
          "model_name": "LayoutModel",
          "model_module_version": "1.2.0",
          "state": {
            "_model_module": "@jupyter-widgets/base",
            "_model_module_version": "1.2.0",
            "_model_name": "LayoutModel",
            "_view_count": null,
            "_view_module": "@jupyter-widgets/base",
            "_view_module_version": "1.2.0",
            "_view_name": "LayoutView",
            "align_content": null,
            "align_items": null,
            "align_self": null,
            "border": null,
            "bottom": null,
            "display": null,
            "flex": null,
            "flex_flow": null,
            "grid_area": null,
            "grid_auto_columns": null,
            "grid_auto_flow": null,
            "grid_auto_rows": null,
            "grid_column": null,
            "grid_gap": null,
            "grid_row": null,
            "grid_template_areas": null,
            "grid_template_columns": null,
            "grid_template_rows": null,
            "height": null,
            "justify_content": null,
            "justify_items": null,
            "left": null,
            "margin": null,
            "max_height": null,
            "max_width": null,
            "min_height": null,
            "min_width": null,
            "object_fit": null,
            "object_position": null,
            "order": null,
            "overflow": null,
            "overflow_x": null,
            "overflow_y": null,
            "padding": null,
            "right": null,
            "top": null,
            "visibility": null,
            "width": null
          }
        },
        "c0e2906444c14549ad6251133b37836e": {
          "model_module": "@jupyter-widgets/controls",
          "model_name": "ProgressStyleModel",
          "model_module_version": "1.5.0",
          "state": {
            "_model_module": "@jupyter-widgets/controls",
            "_model_module_version": "1.5.0",
            "_model_name": "ProgressStyleModel",
            "_view_count": null,
            "_view_module": "@jupyter-widgets/base",
            "_view_module_version": "1.2.0",
            "_view_name": "StyleView",
            "bar_color": null,
            "description_width": ""
          }
        },
        "e7a4d39ac41e4d8a982a75218d590187": {
          "model_module": "@jupyter-widgets/base",
          "model_name": "LayoutModel",
          "model_module_version": "1.2.0",
          "state": {
            "_model_module": "@jupyter-widgets/base",
            "_model_module_version": "1.2.0",
            "_model_name": "LayoutModel",
            "_view_count": null,
            "_view_module": "@jupyter-widgets/base",
            "_view_module_version": "1.2.0",
            "_view_name": "LayoutView",
            "align_content": null,
            "align_items": null,
            "align_self": null,
            "border": null,
            "bottom": null,
            "display": null,
            "flex": null,
            "flex_flow": null,
            "grid_area": null,
            "grid_auto_columns": null,
            "grid_auto_flow": null,
            "grid_auto_rows": null,
            "grid_column": null,
            "grid_gap": null,
            "grid_row": null,
            "grid_template_areas": null,
            "grid_template_columns": null,
            "grid_template_rows": null,
            "height": null,
            "justify_content": null,
            "justify_items": null,
            "left": null,
            "margin": null,
            "max_height": null,
            "max_width": null,
            "min_height": null,
            "min_width": null,
            "object_fit": null,
            "object_position": null,
            "order": null,
            "overflow": null,
            "overflow_x": null,
            "overflow_y": null,
            "padding": null,
            "right": null,
            "top": null,
            "visibility": null,
            "width": null
          }
        },
        "c7897ed0e27c4e88bacc112a0235d0b0": {
          "model_module": "@jupyter-widgets/controls",
          "model_name": "DescriptionStyleModel",
          "model_module_version": "1.5.0",
          "state": {
            "_model_module": "@jupyter-widgets/controls",
            "_model_module_version": "1.5.0",
            "_model_name": "DescriptionStyleModel",
            "_view_count": null,
            "_view_module": "@jupyter-widgets/base",
            "_view_module_version": "1.2.0",
            "_view_name": "StyleView",
            "description_width": ""
          }
        },
        "ac2edaf75b654eb58baac37bf944c8ec": {
          "model_module": "@jupyter-widgets/controls",
          "model_name": "HBoxModel",
          "model_module_version": "1.5.0",
          "state": {
            "_dom_classes": [],
            "_model_module": "@jupyter-widgets/controls",
            "_model_module_version": "1.5.0",
            "_model_name": "HBoxModel",
            "_view_count": null,
            "_view_module": "@jupyter-widgets/controls",
            "_view_module_version": "1.5.0",
            "_view_name": "HBoxView",
            "box_style": "",
            "children": [
              "IPY_MODEL_ea8fbf7368df4eb09206665a20f848ff",
              "IPY_MODEL_6a47b61b6bd349ba9634c5f208569499",
              "IPY_MODEL_c9c518f6199149dba16aa6f640a25407"
            ],
            "layout": "IPY_MODEL_3d8f0f9423aa4981aa7aac38ec5d4cd0"
          }
        },
        "ea8fbf7368df4eb09206665a20f848ff": {
          "model_module": "@jupyter-widgets/controls",
          "model_name": "HTMLModel",
          "model_module_version": "1.5.0",
          "state": {
            "_dom_classes": [],
            "_model_module": "@jupyter-widgets/controls",
            "_model_module_version": "1.5.0",
            "_model_name": "HTMLModel",
            "_view_count": null,
            "_view_module": "@jupyter-widgets/controls",
            "_view_module_version": "1.5.0",
            "_view_name": "HTMLView",
            "description": "",
            "description_tooltip": null,
            "layout": "IPY_MODEL_960de48a6b1942ba80b783fc88988d8e",
            "placeholder": "​",
            "style": "IPY_MODEL_fbcec63a2ed042ec805675f2d181181d",
            "value": "100%"
          }
        },
        "6a47b61b6bd349ba9634c5f208569499": {
          "model_module": "@jupyter-widgets/controls",
          "model_name": "FloatProgressModel",
          "model_module_version": "1.5.0",
          "state": {
            "_dom_classes": [],
            "_model_module": "@jupyter-widgets/controls",
            "_model_module_version": "1.5.0",
            "_model_name": "FloatProgressModel",
            "_view_count": null,
            "_view_module": "@jupyter-widgets/controls",
            "_view_module_version": "1.5.0",
            "_view_name": "ProgressView",
            "bar_style": "success",
            "description": "",
            "description_tooltip": null,
            "layout": "IPY_MODEL_e66ad5a5cbc94c269ca144b4dbcc5329",
            "max": 246,
            "min": 0,
            "orientation": "horizontal",
            "style": "IPY_MODEL_2458fd7020be419bb4ad05b1c6a5a189",
            "value": 246
          }
        },
        "c9c518f6199149dba16aa6f640a25407": {
          "model_module": "@jupyter-widgets/controls",
          "model_name": "HTMLModel",
          "model_module_version": "1.5.0",
          "state": {
            "_dom_classes": [],
            "_model_module": "@jupyter-widgets/controls",
            "_model_module_version": "1.5.0",
            "_model_name": "HTMLModel",
            "_view_count": null,
            "_view_module": "@jupyter-widgets/controls",
            "_view_module_version": "1.5.0",
            "_view_name": "HTMLView",
            "description": "",
            "description_tooltip": null,
            "layout": "IPY_MODEL_bd8a4b5d6dd042a884daec0e7f2c6e4e",
            "placeholder": "​",
            "style": "IPY_MODEL_759b1e63d2714fb295ae2d87867738b1",
            "value": " 246/246 [04:58&lt;00:00,  1.16s/it]"
          }
        },
        "3d8f0f9423aa4981aa7aac38ec5d4cd0": {
          "model_module": "@jupyter-widgets/base",
          "model_name": "LayoutModel",
          "model_module_version": "1.2.0",
          "state": {
            "_model_module": "@jupyter-widgets/base",
            "_model_module_version": "1.2.0",
            "_model_name": "LayoutModel",
            "_view_count": null,
            "_view_module": "@jupyter-widgets/base",
            "_view_module_version": "1.2.0",
            "_view_name": "LayoutView",
            "align_content": null,
            "align_items": null,
            "align_self": null,
            "border": null,
            "bottom": null,
            "display": null,
            "flex": null,
            "flex_flow": null,
            "grid_area": null,
            "grid_auto_columns": null,
            "grid_auto_flow": null,
            "grid_auto_rows": null,
            "grid_column": null,
            "grid_gap": null,
            "grid_row": null,
            "grid_template_areas": null,
            "grid_template_columns": null,
            "grid_template_rows": null,
            "height": null,
            "justify_content": null,
            "justify_items": null,
            "left": null,
            "margin": null,
            "max_height": null,
            "max_width": null,
            "min_height": null,
            "min_width": null,
            "object_fit": null,
            "object_position": null,
            "order": null,
            "overflow": null,
            "overflow_x": null,
            "overflow_y": null,
            "padding": null,
            "right": null,
            "top": null,
            "visibility": null,
            "width": null
          }
        },
        "960de48a6b1942ba80b783fc88988d8e": {
          "model_module": "@jupyter-widgets/base",
          "model_name": "LayoutModel",
          "model_module_version": "1.2.0",
          "state": {
            "_model_module": "@jupyter-widgets/base",
            "_model_module_version": "1.2.0",
            "_model_name": "LayoutModel",
            "_view_count": null,
            "_view_module": "@jupyter-widgets/base",
            "_view_module_version": "1.2.0",
            "_view_name": "LayoutView",
            "align_content": null,
            "align_items": null,
            "align_self": null,
            "border": null,
            "bottom": null,
            "display": null,
            "flex": null,
            "flex_flow": null,
            "grid_area": null,
            "grid_auto_columns": null,
            "grid_auto_flow": null,
            "grid_auto_rows": null,
            "grid_column": null,
            "grid_gap": null,
            "grid_row": null,
            "grid_template_areas": null,
            "grid_template_columns": null,
            "grid_template_rows": null,
            "height": null,
            "justify_content": null,
            "justify_items": null,
            "left": null,
            "margin": null,
            "max_height": null,
            "max_width": null,
            "min_height": null,
            "min_width": null,
            "object_fit": null,
            "object_position": null,
            "order": null,
            "overflow": null,
            "overflow_x": null,
            "overflow_y": null,
            "padding": null,
            "right": null,
            "top": null,
            "visibility": null,
            "width": null
          }
        },
        "fbcec63a2ed042ec805675f2d181181d": {
          "model_module": "@jupyter-widgets/controls",
          "model_name": "DescriptionStyleModel",
          "model_module_version": "1.5.0",
          "state": {
            "_model_module": "@jupyter-widgets/controls",
            "_model_module_version": "1.5.0",
            "_model_name": "DescriptionStyleModel",
            "_view_count": null,
            "_view_module": "@jupyter-widgets/base",
            "_view_module_version": "1.2.0",
            "_view_name": "StyleView",
            "description_width": ""
          }
        },
        "e66ad5a5cbc94c269ca144b4dbcc5329": {
          "model_module": "@jupyter-widgets/base",
          "model_name": "LayoutModel",
          "model_module_version": "1.2.0",
          "state": {
            "_model_module": "@jupyter-widgets/base",
            "_model_module_version": "1.2.0",
            "_model_name": "LayoutModel",
            "_view_count": null,
            "_view_module": "@jupyter-widgets/base",
            "_view_module_version": "1.2.0",
            "_view_name": "LayoutView",
            "align_content": null,
            "align_items": null,
            "align_self": null,
            "border": null,
            "bottom": null,
            "display": null,
            "flex": null,
            "flex_flow": null,
            "grid_area": null,
            "grid_auto_columns": null,
            "grid_auto_flow": null,
            "grid_auto_rows": null,
            "grid_column": null,
            "grid_gap": null,
            "grid_row": null,
            "grid_template_areas": null,
            "grid_template_columns": null,
            "grid_template_rows": null,
            "height": null,
            "justify_content": null,
            "justify_items": null,
            "left": null,
            "margin": null,
            "max_height": null,
            "max_width": null,
            "min_height": null,
            "min_width": null,
            "object_fit": null,
            "object_position": null,
            "order": null,
            "overflow": null,
            "overflow_x": null,
            "overflow_y": null,
            "padding": null,
            "right": null,
            "top": null,
            "visibility": null,
            "width": null
          }
        },
        "2458fd7020be419bb4ad05b1c6a5a189": {
          "model_module": "@jupyter-widgets/controls",
          "model_name": "ProgressStyleModel",
          "model_module_version": "1.5.0",
          "state": {
            "_model_module": "@jupyter-widgets/controls",
            "_model_module_version": "1.5.0",
            "_model_name": "ProgressStyleModel",
            "_view_count": null,
            "_view_module": "@jupyter-widgets/base",
            "_view_module_version": "1.2.0",
            "_view_name": "StyleView",
            "bar_color": null,
            "description_width": ""
          }
        },
        "bd8a4b5d6dd042a884daec0e7f2c6e4e": {
          "model_module": "@jupyter-widgets/base",
          "model_name": "LayoutModel",
          "model_module_version": "1.2.0",
          "state": {
            "_model_module": "@jupyter-widgets/base",
            "_model_module_version": "1.2.0",
            "_model_name": "LayoutModel",
            "_view_count": null,
            "_view_module": "@jupyter-widgets/base",
            "_view_module_version": "1.2.0",
            "_view_name": "LayoutView",
            "align_content": null,
            "align_items": null,
            "align_self": null,
            "border": null,
            "bottom": null,
            "display": null,
            "flex": null,
            "flex_flow": null,
            "grid_area": null,
            "grid_auto_columns": null,
            "grid_auto_flow": null,
            "grid_auto_rows": null,
            "grid_column": null,
            "grid_gap": null,
            "grid_row": null,
            "grid_template_areas": null,
            "grid_template_columns": null,
            "grid_template_rows": null,
            "height": null,
            "justify_content": null,
            "justify_items": null,
            "left": null,
            "margin": null,
            "max_height": null,
            "max_width": null,
            "min_height": null,
            "min_width": null,
            "object_fit": null,
            "object_position": null,
            "order": null,
            "overflow": null,
            "overflow_x": null,
            "overflow_y": null,
            "padding": null,
            "right": null,
            "top": null,
            "visibility": null,
            "width": null
          }
        },
        "759b1e63d2714fb295ae2d87867738b1": {
          "model_module": "@jupyter-widgets/controls",
          "model_name": "DescriptionStyleModel",
          "model_module_version": "1.5.0",
          "state": {
            "_model_module": "@jupyter-widgets/controls",
            "_model_module_version": "1.5.0",
            "_model_name": "DescriptionStyleModel",
            "_view_count": null,
            "_view_module": "@jupyter-widgets/base",
            "_view_module_version": "1.2.0",
            "_view_name": "StyleView",
            "description_width": ""
          }
        },
        "f8cce09b1c38422c8a6b914a37449144": {
          "model_module": "@jupyter-widgets/controls",
          "model_name": "HBoxModel",
          "model_module_version": "1.5.0",
          "state": {
            "_dom_classes": [],
            "_model_module": "@jupyter-widgets/controls",
            "_model_module_version": "1.5.0",
            "_model_name": "HBoxModel",
            "_view_count": null,
            "_view_module": "@jupyter-widgets/controls",
            "_view_module_version": "1.5.0",
            "_view_name": "HBoxView",
            "box_style": "",
            "children": [
              "IPY_MODEL_5b59fa939f104a829db63397f1df3ace",
              "IPY_MODEL_64ae8d6ed15b411a86607903119af384",
              "IPY_MODEL_3af839ef827e459ebf765d18d3fc60c7"
            ],
            "layout": "IPY_MODEL_6eb13edd417748d59d3ec8182cd47f5d"
          }
        },
        "5b59fa939f104a829db63397f1df3ace": {
          "model_module": "@jupyter-widgets/controls",
          "model_name": "HTMLModel",
          "model_module_version": "1.5.0",
          "state": {
            "_dom_classes": [],
            "_model_module": "@jupyter-widgets/controls",
            "_model_module_version": "1.5.0",
            "_model_name": "HTMLModel",
            "_view_count": null,
            "_view_module": "@jupyter-widgets/controls",
            "_view_module_version": "1.5.0",
            "_view_name": "HTMLView",
            "description": "",
            "description_tooltip": null,
            "layout": "IPY_MODEL_9c0d71d1f7e84e39abd534dfc6b5278e",
            "placeholder": "​",
            "style": "IPY_MODEL_59ab1c184c1c4651ab7fb8a790dcf802",
            "value": "100%"
          }
        },
        "64ae8d6ed15b411a86607903119af384": {
          "model_module": "@jupyter-widgets/controls",
          "model_name": "FloatProgressModel",
          "model_module_version": "1.5.0",
          "state": {
            "_dom_classes": [],
            "_model_module": "@jupyter-widgets/controls",
            "_model_module_version": "1.5.0",
            "_model_name": "FloatProgressModel",
            "_view_count": null,
            "_view_module": "@jupyter-widgets/controls",
            "_view_module_version": "1.5.0",
            "_view_name": "ProgressView",
            "bar_style": "success",
            "description": "",
            "description_tooltip": null,
            "layout": "IPY_MODEL_fd478c9616d4477e86f17306a2948de5",
            "max": 246,
            "min": 0,
            "orientation": "horizontal",
            "style": "IPY_MODEL_bdfb542dd92744eb99ebc26ecf328fe3",
            "value": 246
          }
        },
        "3af839ef827e459ebf765d18d3fc60c7": {
          "model_module": "@jupyter-widgets/controls",
          "model_name": "HTMLModel",
          "model_module_version": "1.5.0",
          "state": {
            "_dom_classes": [],
            "_model_module": "@jupyter-widgets/controls",
            "_model_module_version": "1.5.0",
            "_model_name": "HTMLModel",
            "_view_count": null,
            "_view_module": "@jupyter-widgets/controls",
            "_view_module_version": "1.5.0",
            "_view_name": "HTMLView",
            "description": "",
            "description_tooltip": null,
            "layout": "IPY_MODEL_ea06eb10484e44e488d722430fa35e14",
            "placeholder": "​",
            "style": "IPY_MODEL_5e37c3a4b5cd4a5a93346852771d86d6",
            "value": " 246/246 [04:26&lt;00:00,  1.11it/s]"
          }
        },
        "6eb13edd417748d59d3ec8182cd47f5d": {
          "model_module": "@jupyter-widgets/base",
          "model_name": "LayoutModel",
          "model_module_version": "1.2.0",
          "state": {
            "_model_module": "@jupyter-widgets/base",
            "_model_module_version": "1.2.0",
            "_model_name": "LayoutModel",
            "_view_count": null,
            "_view_module": "@jupyter-widgets/base",
            "_view_module_version": "1.2.0",
            "_view_name": "LayoutView",
            "align_content": null,
            "align_items": null,
            "align_self": null,
            "border": null,
            "bottom": null,
            "display": null,
            "flex": null,
            "flex_flow": null,
            "grid_area": null,
            "grid_auto_columns": null,
            "grid_auto_flow": null,
            "grid_auto_rows": null,
            "grid_column": null,
            "grid_gap": null,
            "grid_row": null,
            "grid_template_areas": null,
            "grid_template_columns": null,
            "grid_template_rows": null,
            "height": null,
            "justify_content": null,
            "justify_items": null,
            "left": null,
            "margin": null,
            "max_height": null,
            "max_width": null,
            "min_height": null,
            "min_width": null,
            "object_fit": null,
            "object_position": null,
            "order": null,
            "overflow": null,
            "overflow_x": null,
            "overflow_y": null,
            "padding": null,
            "right": null,
            "top": null,
            "visibility": null,
            "width": null
          }
        },
        "9c0d71d1f7e84e39abd534dfc6b5278e": {
          "model_module": "@jupyter-widgets/base",
          "model_name": "LayoutModel",
          "model_module_version": "1.2.0",
          "state": {
            "_model_module": "@jupyter-widgets/base",
            "_model_module_version": "1.2.0",
            "_model_name": "LayoutModel",
            "_view_count": null,
            "_view_module": "@jupyter-widgets/base",
            "_view_module_version": "1.2.0",
            "_view_name": "LayoutView",
            "align_content": null,
            "align_items": null,
            "align_self": null,
            "border": null,
            "bottom": null,
            "display": null,
            "flex": null,
            "flex_flow": null,
            "grid_area": null,
            "grid_auto_columns": null,
            "grid_auto_flow": null,
            "grid_auto_rows": null,
            "grid_column": null,
            "grid_gap": null,
            "grid_row": null,
            "grid_template_areas": null,
            "grid_template_columns": null,
            "grid_template_rows": null,
            "height": null,
            "justify_content": null,
            "justify_items": null,
            "left": null,
            "margin": null,
            "max_height": null,
            "max_width": null,
            "min_height": null,
            "min_width": null,
            "object_fit": null,
            "object_position": null,
            "order": null,
            "overflow": null,
            "overflow_x": null,
            "overflow_y": null,
            "padding": null,
            "right": null,
            "top": null,
            "visibility": null,
            "width": null
          }
        },
        "59ab1c184c1c4651ab7fb8a790dcf802": {
          "model_module": "@jupyter-widgets/controls",
          "model_name": "DescriptionStyleModel",
          "model_module_version": "1.5.0",
          "state": {
            "_model_module": "@jupyter-widgets/controls",
            "_model_module_version": "1.5.0",
            "_model_name": "DescriptionStyleModel",
            "_view_count": null,
            "_view_module": "@jupyter-widgets/base",
            "_view_module_version": "1.2.0",
            "_view_name": "StyleView",
            "description_width": ""
          }
        },
        "fd478c9616d4477e86f17306a2948de5": {
          "model_module": "@jupyter-widgets/base",
          "model_name": "LayoutModel",
          "model_module_version": "1.2.0",
          "state": {
            "_model_module": "@jupyter-widgets/base",
            "_model_module_version": "1.2.0",
            "_model_name": "LayoutModel",
            "_view_count": null,
            "_view_module": "@jupyter-widgets/base",
            "_view_module_version": "1.2.0",
            "_view_name": "LayoutView",
            "align_content": null,
            "align_items": null,
            "align_self": null,
            "border": null,
            "bottom": null,
            "display": null,
            "flex": null,
            "flex_flow": null,
            "grid_area": null,
            "grid_auto_columns": null,
            "grid_auto_flow": null,
            "grid_auto_rows": null,
            "grid_column": null,
            "grid_gap": null,
            "grid_row": null,
            "grid_template_areas": null,
            "grid_template_columns": null,
            "grid_template_rows": null,
            "height": null,
            "justify_content": null,
            "justify_items": null,
            "left": null,
            "margin": null,
            "max_height": null,
            "max_width": null,
            "min_height": null,
            "min_width": null,
            "object_fit": null,
            "object_position": null,
            "order": null,
            "overflow": null,
            "overflow_x": null,
            "overflow_y": null,
            "padding": null,
            "right": null,
            "top": null,
            "visibility": null,
            "width": null
          }
        },
        "bdfb542dd92744eb99ebc26ecf328fe3": {
          "model_module": "@jupyter-widgets/controls",
          "model_name": "ProgressStyleModel",
          "model_module_version": "1.5.0",
          "state": {
            "_model_module": "@jupyter-widgets/controls",
            "_model_module_version": "1.5.0",
            "_model_name": "ProgressStyleModel",
            "_view_count": null,
            "_view_module": "@jupyter-widgets/base",
            "_view_module_version": "1.2.0",
            "_view_name": "StyleView",
            "bar_color": null,
            "description_width": ""
          }
        },
        "ea06eb10484e44e488d722430fa35e14": {
          "model_module": "@jupyter-widgets/base",
          "model_name": "LayoutModel",
          "model_module_version": "1.2.0",
          "state": {
            "_model_module": "@jupyter-widgets/base",
            "_model_module_version": "1.2.0",
            "_model_name": "LayoutModel",
            "_view_count": null,
            "_view_module": "@jupyter-widgets/base",
            "_view_module_version": "1.2.0",
            "_view_name": "LayoutView",
            "align_content": null,
            "align_items": null,
            "align_self": null,
            "border": null,
            "bottom": null,
            "display": null,
            "flex": null,
            "flex_flow": null,
            "grid_area": null,
            "grid_auto_columns": null,
            "grid_auto_flow": null,
            "grid_auto_rows": null,
            "grid_column": null,
            "grid_gap": null,
            "grid_row": null,
            "grid_template_areas": null,
            "grid_template_columns": null,
            "grid_template_rows": null,
            "height": null,
            "justify_content": null,
            "justify_items": null,
            "left": null,
            "margin": null,
            "max_height": null,
            "max_width": null,
            "min_height": null,
            "min_width": null,
            "object_fit": null,
            "object_position": null,
            "order": null,
            "overflow": null,
            "overflow_x": null,
            "overflow_y": null,
            "padding": null,
            "right": null,
            "top": null,
            "visibility": null,
            "width": null
          }
        },
        "5e37c3a4b5cd4a5a93346852771d86d6": {
          "model_module": "@jupyter-widgets/controls",
          "model_name": "DescriptionStyleModel",
          "model_module_version": "1.5.0",
          "state": {
            "_model_module": "@jupyter-widgets/controls",
            "_model_module_version": "1.5.0",
            "_model_name": "DescriptionStyleModel",
            "_view_count": null,
            "_view_module": "@jupyter-widgets/base",
            "_view_module_version": "1.2.0",
            "_view_name": "StyleView",
            "description_width": ""
          }
        }
      }
    }
  },
  "cells": [
    {
      "cell_type": "markdown",
      "source": [
        "# Setting Up"
      ],
      "metadata": {
        "id": "WWZfX9RGxDWn"
      }
    },
    {
      "cell_type": "code",
      "execution_count": null,
      "metadata": {
        "id": "qqbGE5VDwwk4"
      },
      "outputs": [],
      "source": [
        "%reload_ext autoreload\n",
        "%autoreload 2\n",
        "%matplotlib inline"
      ]
    },
    {
      "cell_type": "code",
      "source": [
        "! pip install -q transformers[sentencepiece] fastai ohmeow-blurr nbdev"
      ],
      "metadata": {
        "colab": {
          "base_uri": "https://localhost:8080/"
        },
        "id": "7LIYeFLnxHHE",
        "outputId": "948e16ce-327a-4adc-f9f6-c0b771c1cff1"
      },
      "execution_count": null,
      "outputs": [
        {
          "output_type": "stream",
          "name": "stdout",
          "text": [
            "\u001b[2K     \u001b[90m━━━━━━━━━━━━━━━━━━━━━━━━━━━━━━━━━━━━━━━━\u001b[0m \u001b[32m7.4/7.4 MB\u001b[0m \u001b[31m26.4 MB/s\u001b[0m eta \u001b[36m0:00:00\u001b[0m\n",
            "\u001b[2K     \u001b[90m━━━━━━━━━━━━━━━━━━━━━━━━━━━━━━━━━━━━━━━━\u001b[0m \u001b[32m81.1/81.1 kB\u001b[0m \u001b[31m7.1 MB/s\u001b[0m eta \u001b[36m0:00:00\u001b[0m\n",
            "\u001b[2K     \u001b[90m━━━━━━━━━━━━━━━━━━━━━━━━━━━━━━━━━━━━━━━━\u001b[0m \u001b[32m64.8/64.8 kB\u001b[0m \u001b[31m6.5 MB/s\u001b[0m eta \u001b[36m0:00:00\u001b[0m\n",
            "\u001b[2K     \u001b[90m━━━━━━━━━━━━━━━━━━━━━━━━━━━━━━━━━━━━━━\u001b[0m \u001b[32m268.8/268.8 kB\u001b[0m \u001b[31m21.6 MB/s\u001b[0m eta \u001b[36m0:00:00\u001b[0m\n",
            "\u001b[2K     \u001b[90m━━━━━━━━━━━━━━━━━━━━━━━━━━━━━━━━━━━━━━━━\u001b[0m \u001b[32m7.8/7.8 MB\u001b[0m \u001b[31m64.7 MB/s\u001b[0m eta \u001b[36m0:00:00\u001b[0m\n",
            "\u001b[2K     \u001b[90m━━━━━━━━━━━━━━━━━━━━━━━━━━━━━━━━━━━━━━━━\u001b[0m \u001b[32m1.3/1.3 MB\u001b[0m \u001b[31m45.4 MB/s\u001b[0m eta \u001b[36m0:00:00\u001b[0m\n",
            "\u001b[2K     \u001b[90m━━━━━━━━━━━━━━━━━━━━━━━━━━━━━━━━━━━━━━━━\u001b[0m \u001b[32m1.3/1.3 MB\u001b[0m \u001b[31m45.3 MB/s\u001b[0m eta \u001b[36m0:00:00\u001b[0m\n",
            "\u001b[2K     \u001b[90m━━━━━━━━━━━━━━━━━━━━━━━━━━━━━━━━━━━━━━━\u001b[0m \u001b[32m887.5/887.5 MB\u001b[0m \u001b[31m1.4 MB/s\u001b[0m eta \u001b[36m0:00:00\u001b[0m\n",
            "\u001b[2K     \u001b[90m━━━━━━━━━━━━━━━━━━━━━━━━━━━━━━━━━━━━━━\u001b[0m \u001b[32m519.3/519.3 kB\u001b[0m \u001b[31m40.0 MB/s\u001b[0m eta \u001b[36m0:00:00\u001b[0m\n",
            "\u001b[2K     \u001b[90m━━━━━━━━━━━━━━━━━━━━━━━━━━━━━━━━━━━━━━━━\u001b[0m \u001b[32m43.6/43.6 kB\u001b[0m \u001b[31m3.4 MB/s\u001b[0m eta \u001b[36m0:00:00\u001b[0m\n",
            "\u001b[?25h  Preparing metadata (setup.py) ... \u001b[?25l\u001b[?25hdone\n",
            "  Preparing metadata (setup.py) ... \u001b[?25l\u001b[?25hdone\n",
            "\u001b[2K     \u001b[90m━━━━━━━━━━━━━━━━━━━━━━━━━━━━━━━━━━━━━━━━\u001b[0m \u001b[32m58.7/58.7 kB\u001b[0m \u001b[31m5.7 MB/s\u001b[0m eta \u001b[36m0:00:00\u001b[0m\n",
            "\u001b[2K     \u001b[90m━━━━━━━━━━━━━━━━━━━━━━━━━━━━━━━━━━━━━━━━\u001b[0m \u001b[32m82.1/82.1 kB\u001b[0m \u001b[31m8.1 MB/s\u001b[0m eta \u001b[36m0:00:00\u001b[0m\n",
            "\u001b[2K     \u001b[90m━━━━━━━━━━━━━━━━━━━━━━━━━━━━━━━━━━━━━━\u001b[0m \u001b[32m849.3/849.3 kB\u001b[0m \u001b[31m57.8 MB/s\u001b[0m eta \u001b[36m0:00:00\u001b[0m\n",
            "\u001b[2K     \u001b[90m━━━━━━━━━━━━━━━━━━━━━━━━━━━━━━━━━━━━━━━\u001b[0m \u001b[32m557.1/557.1 MB\u001b[0m \u001b[31m2.2 MB/s\u001b[0m eta \u001b[36m0:00:00\u001b[0m\n",
            "\u001b[2K     \u001b[90m━━━━━━━━━━━━━━━━━━━━━━━━━━━━━━━━━━━━━━━\u001b[0m \u001b[32m317.1/317.1 MB\u001b[0m \u001b[31m1.4 MB/s\u001b[0m eta \u001b[36m0:00:00\u001b[0m\n",
            "\u001b[2K     \u001b[90m━━━━━━━━━━━━━━━━━━━━━━━━━━━━━━━━━━━━━━━━\u001b[0m \u001b[32m21.0/21.0 MB\u001b[0m \u001b[31m31.0 MB/s\u001b[0m eta \u001b[36m0:00:00\u001b[0m\n",
            "\u001b[2K     \u001b[90m━━━━━━━━━━━━━━━━━━━━━━━━━━━━━━━━━━━━━━━━\u001b[0m \u001b[32m6.0/6.0 MB\u001b[0m \u001b[31m69.5 MB/s\u001b[0m eta \u001b[36m0:00:00\u001b[0m\n",
            "\u001b[2K     \u001b[90m━━━━━━━━━━━━━━━━━━━━━━━━━━━━━━━━━━━━━━━━\u001b[0m \u001b[32m6.0/6.0 MB\u001b[0m \u001b[31m80.1 MB/s\u001b[0m eta \u001b[36m0:00:00\u001b[0m\n",
            "\u001b[2K     \u001b[90m━━━━━━━━━━━━━━━━━━━━━━━━━━━━━━━━━━━━━━━━\u001b[0m \u001b[32m24.2/24.2 MB\u001b[0m \u001b[31m47.0 MB/s\u001b[0m eta \u001b[36m0:00:00\u001b[0m\n",
            "\u001b[2K     \u001b[90m━━━━━━━━━━━━━━━━━━━━━━━━━━━━━━━━━━━━━━━\u001b[0m \u001b[32m115.3/115.3 kB\u001b[0m \u001b[31m9.4 MB/s\u001b[0m eta \u001b[36m0:00:00\u001b[0m\n",
            "\u001b[2K     \u001b[90m━━━━━━━━━━━━━━━━━━━━━━━━━━━━━━━━━━━━━━\u001b[0m \u001b[32m194.1/194.1 kB\u001b[0m \u001b[31m14.6 MB/s\u001b[0m eta \u001b[36m0:00:00\u001b[0m\n",
            "\u001b[2K     \u001b[90m━━━━━━━━━━━━━━━━━━━━━━━━━━━━━━━━━━━━━━\u001b[0m \u001b[32m134.8/134.8 kB\u001b[0m \u001b[31m10.7 MB/s\u001b[0m eta \u001b[36m0:00:00\u001b[0m\n",
            "\u001b[2K     \u001b[90m━━━━━━━━━━━━━━━━━━━━━━━━━━━━━━━━━━━━━━━━\u001b[0m \u001b[32m1.6/1.6 MB\u001b[0m \u001b[31m68.6 MB/s\u001b[0m eta \u001b[36m0:00:00\u001b[0m\n",
            "\u001b[?25h  Building wheel for rouge-score (setup.py) ... \u001b[?25l\u001b[?25hdone\n",
            "  Building wheel for seqeval (setup.py) ... \u001b[?25l\u001b[?25hdone\n",
            "\u001b[31mERROR: pip's dependency resolver does not currently take into account all the packages that are installed. This behaviour is the source of the following dependency conflicts.\n",
            "torchaudio 2.0.2+cu118 requires torch==2.0.1, but you have torch 1.13.1 which is incompatible.\n",
            "torchdata 0.6.1 requires torch==2.0.1, but you have torch 1.13.1 which is incompatible.\n",
            "torchtext 0.15.2 requires torch==2.0.1, but you have torch 1.13.1 which is incompatible.\u001b[0m\u001b[31m\n",
            "\u001b[0m"
          ]
        }
      ]
    },
    {
      "cell_type": "code",
      "source": [
        "! pip install -q onnxruntime onnx==1.14.0 onnxruntime-gpu onnxruntime_tools"
      ],
      "metadata": {
        "colab": {
          "base_uri": "https://localhost:8080/"
        },
        "id": "J33mujA1xQ5-",
        "outputId": "ddaee166-7811-41f7-916b-c357af82b17f"
      },
      "execution_count": null,
      "outputs": [
        {
          "output_type": "stream",
          "name": "stdout",
          "text": [
            "\u001b[2K     \u001b[90m━━━━━━━━━━━━━━━━━━━━━━━━━━━━━━━━━━━━━━━━\u001b[0m \u001b[32m5.9/5.9 MB\u001b[0m \u001b[31m16.1 MB/s\u001b[0m eta \u001b[36m0:00:00\u001b[0m\n",
            "\u001b[2K     \u001b[90m━━━━━━━━━━━━━━━━━━━━━━━━━━━━━━━━━━━━━━━━\u001b[0m \u001b[32m14.6/14.6 MB\u001b[0m \u001b[31m22.6 MB/s\u001b[0m eta \u001b[36m0:00:00\u001b[0m\n",
            "\u001b[2K     \u001b[90m━━━━━━━━━━━━━━━━━━━━━━━━━━━━━━━━━━━━━━━\u001b[0m \u001b[32m121.6/121.6 MB\u001b[0m \u001b[31m5.9 MB/s\u001b[0m eta \u001b[36m0:00:00\u001b[0m\n",
            "\u001b[2K     \u001b[90m━━━━━━━━━━━━━━━━━━━━━━━━━━━━━━━━━━━━━━\u001b[0m \u001b[32m212.7/212.7 kB\u001b[0m \u001b[31m19.9 MB/s\u001b[0m eta \u001b[36m0:00:00\u001b[0m\n",
            "\u001b[2K     \u001b[90m━━━━━━━━━━━━━━━━━━━━━━━━━━━━━━━━━━━━━━━━\u001b[0m \u001b[32m46.0/46.0 kB\u001b[0m \u001b[31m4.4 MB/s\u001b[0m eta \u001b[36m0:00:00\u001b[0m\n",
            "\u001b[2K     \u001b[90m━━━━━━━━━━━━━━━━━━━━━━━━━━━━━━━━━━━━━━━━\u001b[0m \u001b[32m55.5/55.5 kB\u001b[0m \u001b[31m4.5 MB/s\u001b[0m eta \u001b[36m0:00:00\u001b[0m\n",
            "\u001b[2K     \u001b[90m━━━━━━━━━━━━━━━━━━━━━━━━━━━━━━━━━━━━━━━━\u001b[0m \u001b[32m86.8/86.8 kB\u001b[0m \u001b[31m8.6 MB/s\u001b[0m eta \u001b[36m0:00:00\u001b[0m\n",
            "\u001b[?25h"
          ]
        }
      ]
    },
    {
      "cell_type": "code",
      "source": [
        "import torch\n",
        "from transformers import AutoModelForSequenceClassification, AutoConfig\n",
        "from fastai.text.all import *\n",
        "from blurr.text.data.all import *\n",
        "from blurr.text.modeling.all import *"
      ],
      "metadata": {
        "colab": {
          "base_uri": "https://localhost:8080/",
          "height": 136,
          "referenced_widgets": [
            "008d454496c04c578eb056ab17cf0091",
            "a93effc57a17434ea6328fc54bd7e720",
            "72766caed3ec49c48c35dcbb9131e67e",
            "85d68297804543a6ada270fd620fb8c6",
            "9227d4555d2c42a8b3cf5041e00d888b",
            "12842cd515154fd088788afc194fb21e",
            "071b8b7ba5a54f35b48d4d08ca265b94",
            "b5ed0b5765f940bfa8458423f55f59b7",
            "ca5f7f495e294342b7db77e0ad653a7d",
            "d2114dfdf5774e20a72736cf0f78e0d6",
            "31bf1cf473f24f5498d5aba4cea2fea2",
            "5f4967f89a2c4ff996d0571b12c6a3bf",
            "26e7c58d4f1a467c85abc25a67f6dbca",
            "c1a049fcc295413c89198e6fecc2295b",
            "8239f6e171804835a6921a7442f0a9b0",
            "93c6d27cc9754bed814864e8d496ea49",
            "100f6667b7b843d4987434e44896dde3",
            "2fbc7c95df24435ab8e5a5d5cf630596",
            "fd20137a6208495a9788f33f8344c196",
            "c0e2906444c14549ad6251133b37836e",
            "e7a4d39ac41e4d8a982a75218d590187",
            "c7897ed0e27c4e88bacc112a0235d0b0"
          ]
        },
        "id": "MSDGY3C1xYb3",
        "outputId": "a8656db2-30c2-41f9-b9e6-9dc761de69ba"
      },
      "execution_count": null,
      "outputs": [
        {
          "output_type": "stream",
          "name": "stderr",
          "text": [
            "/usr/local/lib/python3.10/dist-packages/blurr/text/modeling/question_answering.py:31: FutureWarning: load_metric is deprecated and will be removed in the next major version of datasets. Use 'evaluate.load' instead, from the new library 🤗 Evaluate: https://huggingface.co/docs/evaluate\n",
            "  squad_metric = load_metric(\"squad\")\n"
          ]
        },
        {
          "output_type": "display_data",
          "data": {
            "text/plain": [
              "Downloading builder script:   0%|          | 0.00/1.72k [00:00<?, ?B/s]"
            ],
            "application/vnd.jupyter.widget-view+json": {
              "version_major": 2,
              "version_minor": 0,
              "model_id": "008d454496c04c578eb056ab17cf0091"
            }
          },
          "metadata": {}
        },
        {
          "output_type": "display_data",
          "data": {
            "text/plain": [
              "Downloading extra modules:   0%|          | 0.00/1.11k [00:00<?, ?B/s]"
            ],
            "application/vnd.jupyter.widget-view+json": {
              "version_major": 2,
              "version_minor": 0,
              "model_id": "5f4967f89a2c4ff996d0571b12c6a3bf"
            }
          },
          "metadata": {}
        }
      ]
    },
    {
      "cell_type": "code",
      "source": [
        "from tqdm.notebook import tqdm\n",
        "import numpy as np"
      ],
      "metadata": {
        "id": "0kamDZGsxb_f"
      },
      "execution_count": null,
      "outputs": []
    },
    {
      "cell_type": "code",
      "source": [
        "from google.colab import drive\n",
        "drive.mount('/content/drive')"
      ],
      "metadata": {
        "colab": {
          "base_uri": "https://localhost:8080/"
        },
        "id": "Mmdjs_Vyxfye",
        "outputId": "2f3ef917-3763-4e9b-844f-a2c47a2b93bd"
      },
      "execution_count": null,
      "outputs": [
        {
          "output_type": "stream",
          "name": "stdout",
          "text": [
            "Mounted at /content/drive\n"
          ]
        }
      ]
    },
    {
      "cell_type": "code",
      "source": [
        "%cd /content/drive/MyDrive/resume-clf"
      ],
      "metadata": {
        "colab": {
          "base_uri": "https://localhost:8080/"
        },
        "id": "8eTnIaJ4xg2j",
        "outputId": "46232e84-ca1b-41ed-db95-6069ddeb23eb"
      },
      "execution_count": null,
      "outputs": [
        {
          "output_type": "stream",
          "name": "stdout",
          "text": [
            "/content/drive/MyDrive/resume-clf\n"
          ]
        }
      ]
    },
    {
      "cell_type": "markdown",
      "source": [
        "# Data"
      ],
      "metadata": {
        "id": "yZCgEpADxukk"
      }
    },
    {
      "cell_type": "code",
      "source": [
        "df = pd.read_csv(\"Resume.csv\")\n",
        "df.head()"
      ],
      "metadata": {
        "colab": {
          "base_uri": "https://localhost:8080/",
          "height": 858
        },
        "id": "_6olMHPyxveX",
        "outputId": "0e42ecb0-d472-4268-8e1e-f8bc985db39e"
      },
      "execution_count": null,
      "outputs": [
        {
          "output_type": "execute_result",
          "data": {
            "text/plain": [
              "         ID  \\\n",
              "0  16852973   \n",
              "1  22323967   \n",
              "2  33176873   \n",
              "3  27018550   \n",
              "4  17812897   \n",
              "\n",
              "                                                                                                                                                                                                                                                                                                                                                                                                                                                                                                                                                                                                                Resume_str  \\\n",
              "0           HR ADMINISTRATOR/MARKETING ASSOCIATE\\n\\nHR ADMINISTRATOR       Summary     Dedicated Customer Service Manager with 15+ years of experience in Hospitality and Customer Service Management.   Respected builder and leader of customer-focused teams; strives to instill a shared, enthusiastic commitment to customer service.         Highlights         Focused on customer satisfaction  Team management  Marketing savvy  Conflict resolution techniques     Training and development  Skilled multi-tasker  Client relations specialist           Accomplishments      Missouri DOT Supervisor Trainin...   \n",
              "1           HR SPECIALIST, US HR OPERATIONS       Summary     Versatile  media professional with background in Communications, Marketing, Human Resources and Technology.         Experience     09/2015   to   Current     HR Specialist, US HR Operations    Company Name   －   City  ,   State       Managed communication regarding launch of Operations group, policy changes and system outages      Designed standard work and job aids to create comprehensive training program for new employees and contractors         Audited job postings for old, pending, on-hold and draft positions.           Audited...   \n",
              "2           HR DIRECTOR       Summary      Over 20 years experience in recruiting,   15 plus years in Human Resources Executive Management,   5 years of HRIS development and maintenance  4 years working in a Healthcare Enviroment        Skills          Recruiting  FMLA/EEO/FLSA   HRIS Development      Benefit Administration  Policy Development  Web Page Development             Accomplishments      Kansas Health Institute -Health Outcomes for the State of Kansas -1999 \\nMemberships and Accolades: Project Management Institute Member, SHRM, Chamber of Commerce, 1999 Friends University President'...   \n",
              "3           HR SPECIALIST       Summary    Dedicated, Driven, and Dynamic with over 20 years of customer service expertise. Motivated to maintain customer satisfaction and contribute to company success with an emphasis in personnel and process management. Solid team player with proven ability to establish rapport with clients.       Skills          Type 50 wpm and 10-Key by touch  Microsoft programs Word, Excel, Access, Outlook, PowerPoint  Personnel management  and Telephone inquiries specialist      Excellent customer service skills with call quality and customer satisfaction as primary foc...   \n",
              "4           HR MANAGER         Skill Highlights           HR SKILLS  HR Department Startup  Three New Organization Startups  Employment Law  FMLA/ADA/EEO/WC  Mediation & Advocacy  HR Policies & Procedures\\t*Staff Recruitment & Retention  Salary Negotiations  Employee Relations  Benefits Administration  Unemployment Administration  Worker's Compensation Administration  Orientation & On-Boarding  HRIS Technologies  Training & Development  Performance Management  Organizational Development  HR Program/Project Management  HRIS applications (Lawson, Paychex, Kronos, ADP)  MS Office (Word, Excel, P...   \n",
              "\n",
              "                                                                                                                                                                                                                                                                                                                                                                                                                                                                                                                                                                                                               Resume_html  \\\n",
              "0  <div class=\"fontsize fontface vmargins hmargins linespacing pagesize\" id=\"document\"> <div class=\"section firstsection\" id=\"SECTION_NAME500375979\" style=\"\\n      padding-top:0px;\\n    \"> <div class=\"paragraph PARAGRAPH_NAME firstparagraph\" id=\"PARAGRAPH_500375979_1_326506904\" style=\"\\n      padding-top:0px;\\n    \"> <div class=\"name\" itemprop=\"name\"> <span class=\"field fName\" id=\"500375979FNAM1\"> </span> <span> </span> <span class=\"field\" id=\"500375979LNAM1\"> HR ADMINISTRATOR/MARKETING ASSOCIATE\\n\\nHR ADMINISTRATOR</span> </div> </div> </div> <div class=\"section\" id=\"SECTION_SUMM500375981\" s...   \n",
              "1  <div class=\"fontsize fontface vmargins hmargins linespacing pagesize\" id=\"document\"> <div class=\"section firstsection\" id=\"SECTION_NAME911808366\" style=\"padding-top:0px;\"> <div class=\"paragraph PARAGRAPH_NAME firstparagraph\" id=\"PARAGRAPH_911808366_1_598530989\" style=\"padding-top:0px;\"> <div class=\"name thinbottomborder\" itemprop=\"name\"> <span class=\"field fName\" id=\"911808366FNAM1\"> </span> <span> </span> <span class=\"field\" id=\"911808366LNAM1\"> HR SPECIALIST, US HR OPERATIONS</span> </div> </div> </div> <div class=\"section\" id=\"SECTION_SUMM911808372\" style=\"padding-top:0px;\"> <div class=...   \n",
              "2  <div class=\"fontsize fontface vmargins hmargins linespacing pagesize\" id=\"document\"> <div class=\"section firstsection\" id=\"SECTION_NAME1008511259\" style=\"padding-top:0px;\"> <div class=\"paragraph PARAGRAPH_NAME firstparagraph\" id=\"PARAGRAPH_1008511259_1_669264982\" style=\"padding-top:0px;\"> <div class=\"name\" itemprop=\"name\"> <span class=\"field\" id=\"1008511259FNAM1\"> </span> <span> </span> <span class=\"field lName\" id=\"1008511259LNAM1\"> HR DIRECTOR</span> </div> </div> </div> <div class=\"section\" id=\"SECTION_SUMM1008511268\" style=\"padding-top:0px;\"> <div class=\"heading\"> <div class=\"sectionti...   \n",
              "3  <div class=\"fontsize fontface vmargins hmargins linespacing pagesize\" id=\"document\"> <div class=\"section firstsection\" id=\"SECTION_NAME992636658\" style=\"padding-top:0px;\"> <div class=\"paragraph PARAGRAPH_NAME firstparagraph\" id=\"PARAGRAPH_992636658_1_657422912\" style=\"padding-top:0px;\"> <div class=\"name\" itemprop=\"name\"> <span class=\"field fName\" id=\"992636658FNAM1\"> </span> <span> </span> <span class=\"field\" id=\"992636658LNAM1\"> HR SPECIALIST</span> </div> </div> </div> <div class=\"section\" id=\"SECTION_SUMM992636662\" style=\"padding-top:0px;\"> <div class=\"heading bottomborder\"> <div class=...   \n",
              "4  <div class=\"fontsize fontface vmargins hmargins linespacing pagesize\" id=\"document\"> <div class=\"section firstsection\" id=\"SECTION_NAME666809417\" style=\"padding-top:0px;\"> <div class=\"paragraph PARAGRAPH_NAME firstparagraph\" id=\"PARAGRAPH_666809417_1_433655046\" style=\"padding-top:0px;\"> <div class=\"name\" itemprop=\"name\"> <span class=\"field fName\" id=\"666809417FNAM1\"> </span> <span> </span> <span class=\"field\" id=\"666809417LNAM1\"> HR MANAGER</span> </div> </div> </div> <div class=\"section\" id=\"SECTION_SUMM666809420\" style=\"padding-top:0px;\"> </div> <div class=\"section\" id=\"SECTION_HILT66680...   \n",
              "\n",
              "  Category  \n",
              "0       HR  \n",
              "1       HR  \n",
              "2       HR  \n",
              "3       HR  \n",
              "4       HR  "
            ],
            "text/html": [
              "\n",
              "\n",
              "  <div id=\"df-803c3d87-6265-42a8-a120-cf7034f0f81b\">\n",
              "    <div class=\"colab-df-container\">\n",
              "      <div>\n",
              "<style scoped>\n",
              "    .dataframe tbody tr th:only-of-type {\n",
              "        vertical-align: middle;\n",
              "    }\n",
              "\n",
              "    .dataframe tbody tr th {\n",
              "        vertical-align: top;\n",
              "    }\n",
              "\n",
              "    .dataframe thead th {\n",
              "        text-align: right;\n",
              "    }\n",
              "</style>\n",
              "<table border=\"1\" class=\"dataframe\">\n",
              "  <thead>\n",
              "    <tr style=\"text-align: right;\">\n",
              "      <th></th>\n",
              "      <th>ID</th>\n",
              "      <th>Resume_str</th>\n",
              "      <th>Resume_html</th>\n",
              "      <th>Category</th>\n",
              "    </tr>\n",
              "  </thead>\n",
              "  <tbody>\n",
              "    <tr>\n",
              "      <th>0</th>\n",
              "      <td>16852973</td>\n",
              "      <td>HR ADMINISTRATOR/MARKETING ASSOCIATE\\n\\nHR ADMINISTRATOR       Summary     Dedicated Customer Service Manager with 15+ years of experience in Hospitality and Customer Service Management.   Respected builder and leader of customer-focused teams; strives to instill a shared, enthusiastic commitment to customer service.         Highlights         Focused on customer satisfaction  Team management  Marketing savvy  Conflict resolution techniques     Training and development  Skilled multi-tasker  Client relations specialist           Accomplishments      Missouri DOT Supervisor Trainin...</td>\n",
              "      <td>&lt;div class=\"fontsize fontface vmargins hmargins linespacing pagesize\" id=\"document\"&gt; &lt;div class=\"section firstsection\" id=\"SECTION_NAME500375979\" style=\"\\n      padding-top:0px;\\n    \"&gt; &lt;div class=\"paragraph PARAGRAPH_NAME firstparagraph\" id=\"PARAGRAPH_500375979_1_326506904\" style=\"\\n      padding-top:0px;\\n    \"&gt; &lt;div class=\"name\" itemprop=\"name\"&gt; &lt;span class=\"field fName\" id=\"500375979FNAM1\"&gt; &lt;/span&gt; &lt;span&gt; &lt;/span&gt; &lt;span class=\"field\" id=\"500375979LNAM1\"&gt; HR ADMINISTRATOR/MARKETING ASSOCIATE\\n\\nHR ADMINISTRATOR&lt;/span&gt; &lt;/div&gt; &lt;/div&gt; &lt;/div&gt; &lt;div class=\"section\" id=\"SECTION_SUMM500375981\" s...</td>\n",
              "      <td>HR</td>\n",
              "    </tr>\n",
              "    <tr>\n",
              "      <th>1</th>\n",
              "      <td>22323967</td>\n",
              "      <td>HR SPECIALIST, US HR OPERATIONS       Summary     Versatile  media professional with background in Communications, Marketing, Human Resources and Technology.         Experience     09/2015   to   Current     HR Specialist, US HR Operations    Company Name   －   City  ,   State       Managed communication regarding launch of Operations group, policy changes and system outages      Designed standard work and job aids to create comprehensive training program for new employees and contractors         Audited job postings for old, pending, on-hold and draft positions.           Audited...</td>\n",
              "      <td>&lt;div class=\"fontsize fontface vmargins hmargins linespacing pagesize\" id=\"document\"&gt; &lt;div class=\"section firstsection\" id=\"SECTION_NAME911808366\" style=\"padding-top:0px;\"&gt; &lt;div class=\"paragraph PARAGRAPH_NAME firstparagraph\" id=\"PARAGRAPH_911808366_1_598530989\" style=\"padding-top:0px;\"&gt; &lt;div class=\"name thinbottomborder\" itemprop=\"name\"&gt; &lt;span class=\"field fName\" id=\"911808366FNAM1\"&gt; &lt;/span&gt; &lt;span&gt; &lt;/span&gt; &lt;span class=\"field\" id=\"911808366LNAM1\"&gt; HR SPECIALIST, US HR OPERATIONS&lt;/span&gt; &lt;/div&gt; &lt;/div&gt; &lt;/div&gt; &lt;div class=\"section\" id=\"SECTION_SUMM911808372\" style=\"padding-top:0px;\"&gt; &lt;div class=...</td>\n",
              "      <td>HR</td>\n",
              "    </tr>\n",
              "    <tr>\n",
              "      <th>2</th>\n",
              "      <td>33176873</td>\n",
              "      <td>HR DIRECTOR       Summary      Over 20 years experience in recruiting,   15 plus years in Human Resources Executive Management,   5 years of HRIS development and maintenance  4 years working in a Healthcare Enviroment        Skills          Recruiting  FMLA/EEO/FLSA   HRIS Development      Benefit Administration  Policy Development  Web Page Development             Accomplishments      Kansas Health Institute -Health Outcomes for the State of Kansas -1999 \\nMemberships and Accolades: Project Management Institute Member, SHRM, Chamber of Commerce, 1999 Friends University President'...</td>\n",
              "      <td>&lt;div class=\"fontsize fontface vmargins hmargins linespacing pagesize\" id=\"document\"&gt; &lt;div class=\"section firstsection\" id=\"SECTION_NAME1008511259\" style=\"padding-top:0px;\"&gt; &lt;div class=\"paragraph PARAGRAPH_NAME firstparagraph\" id=\"PARAGRAPH_1008511259_1_669264982\" style=\"padding-top:0px;\"&gt; &lt;div class=\"name\" itemprop=\"name\"&gt; &lt;span class=\"field\" id=\"1008511259FNAM1\"&gt; &lt;/span&gt; &lt;span&gt; &lt;/span&gt; &lt;span class=\"field lName\" id=\"1008511259LNAM1\"&gt; HR DIRECTOR&lt;/span&gt; &lt;/div&gt; &lt;/div&gt; &lt;/div&gt; &lt;div class=\"section\" id=\"SECTION_SUMM1008511268\" style=\"padding-top:0px;\"&gt; &lt;div class=\"heading\"&gt; &lt;div class=\"sectionti...</td>\n",
              "      <td>HR</td>\n",
              "    </tr>\n",
              "    <tr>\n",
              "      <th>3</th>\n",
              "      <td>27018550</td>\n",
              "      <td>HR SPECIALIST       Summary    Dedicated, Driven, and Dynamic with over 20 years of customer service expertise. Motivated to maintain customer satisfaction and contribute to company success with an emphasis in personnel and process management. Solid team player with proven ability to establish rapport with clients.       Skills          Type 50 wpm and 10-Key by touch  Microsoft programs Word, Excel, Access, Outlook, PowerPoint  Personnel management  and Telephone inquiries specialist      Excellent customer service skills with call quality and customer satisfaction as primary foc...</td>\n",
              "      <td>&lt;div class=\"fontsize fontface vmargins hmargins linespacing pagesize\" id=\"document\"&gt; &lt;div class=\"section firstsection\" id=\"SECTION_NAME992636658\" style=\"padding-top:0px;\"&gt; &lt;div class=\"paragraph PARAGRAPH_NAME firstparagraph\" id=\"PARAGRAPH_992636658_1_657422912\" style=\"padding-top:0px;\"&gt; &lt;div class=\"name\" itemprop=\"name\"&gt; &lt;span class=\"field fName\" id=\"992636658FNAM1\"&gt; &lt;/span&gt; &lt;span&gt; &lt;/span&gt; &lt;span class=\"field\" id=\"992636658LNAM1\"&gt; HR SPECIALIST&lt;/span&gt; &lt;/div&gt; &lt;/div&gt; &lt;/div&gt; &lt;div class=\"section\" id=\"SECTION_SUMM992636662\" style=\"padding-top:0px;\"&gt; &lt;div class=\"heading bottomborder\"&gt; &lt;div class=...</td>\n",
              "      <td>HR</td>\n",
              "    </tr>\n",
              "    <tr>\n",
              "      <th>4</th>\n",
              "      <td>17812897</td>\n",
              "      <td>HR MANAGER         Skill Highlights           HR SKILLS  HR Department Startup  Three New Organization Startups  Employment Law  FMLA/ADA/EEO/WC  Mediation &amp; Advocacy  HR Policies &amp; Procedures\\t*Staff Recruitment &amp; Retention  Salary Negotiations  Employee Relations  Benefits Administration  Unemployment Administration  Worker's Compensation Administration  Orientation &amp; On-Boarding  HRIS Technologies  Training &amp; Development  Performance Management  Organizational Development  HR Program/Project Management  HRIS applications (Lawson, Paychex, Kronos, ADP)  MS Office (Word, Excel, P...</td>\n",
              "      <td>&lt;div class=\"fontsize fontface vmargins hmargins linespacing pagesize\" id=\"document\"&gt; &lt;div class=\"section firstsection\" id=\"SECTION_NAME666809417\" style=\"padding-top:0px;\"&gt; &lt;div class=\"paragraph PARAGRAPH_NAME firstparagraph\" id=\"PARAGRAPH_666809417_1_433655046\" style=\"padding-top:0px;\"&gt; &lt;div class=\"name\" itemprop=\"name\"&gt; &lt;span class=\"field fName\" id=\"666809417FNAM1\"&gt; &lt;/span&gt; &lt;span&gt; &lt;/span&gt; &lt;span class=\"field\" id=\"666809417LNAM1\"&gt; HR MANAGER&lt;/span&gt; &lt;/div&gt; &lt;/div&gt; &lt;/div&gt; &lt;div class=\"section\" id=\"SECTION_SUMM666809420\" style=\"padding-top:0px;\"&gt; &lt;/div&gt; &lt;div class=\"section\" id=\"SECTION_HILT66680...</td>\n",
              "      <td>HR</td>\n",
              "    </tr>\n",
              "  </tbody>\n",
              "</table>\n",
              "</div>\n",
              "      <button class=\"colab-df-convert\" onclick=\"convertToInteractive('df-803c3d87-6265-42a8-a120-cf7034f0f81b')\"\n",
              "              title=\"Convert this dataframe to an interactive table.\"\n",
              "              style=\"display:none;\">\n",
              "\n",
              "  <svg xmlns=\"http://www.w3.org/2000/svg\" height=\"24px\"viewBox=\"0 0 24 24\"\n",
              "       width=\"24px\">\n",
              "    <path d=\"M0 0h24v24H0V0z\" fill=\"none\"/>\n",
              "    <path d=\"M18.56 5.44l.94 2.06.94-2.06 2.06-.94-2.06-.94-.94-2.06-.94 2.06-2.06.94zm-11 1L8.5 8.5l.94-2.06 2.06-.94-2.06-.94L8.5 2.5l-.94 2.06-2.06.94zm10 10l.94 2.06.94-2.06 2.06-.94-2.06-.94-.94-2.06-.94 2.06-2.06.94z\"/><path d=\"M17.41 7.96l-1.37-1.37c-.4-.4-.92-.59-1.43-.59-.52 0-1.04.2-1.43.59L10.3 9.45l-7.72 7.72c-.78.78-.78 2.05 0 2.83L4 21.41c.39.39.9.59 1.41.59.51 0 1.02-.2 1.41-.59l7.78-7.78 2.81-2.81c.8-.78.8-2.07 0-2.86zM5.41 20L4 18.59l7.72-7.72 1.47 1.35L5.41 20z\"/>\n",
              "  </svg>\n",
              "      </button>\n",
              "\n",
              "\n",
              "\n",
              "    <div id=\"df-937e596f-a1d9-4482-b8ef-117bddba1733\">\n",
              "      <button class=\"colab-df-quickchart\" onclick=\"quickchart('df-937e596f-a1d9-4482-b8ef-117bddba1733')\"\n",
              "              title=\"Suggest charts.\"\n",
              "              style=\"display:none;\">\n",
              "\n",
              "<svg xmlns=\"http://www.w3.org/2000/svg\" height=\"24px\"viewBox=\"0 0 24 24\"\n",
              "     width=\"24px\">\n",
              "    <g>\n",
              "        <path d=\"M19 3H5c-1.1 0-2 .9-2 2v14c0 1.1.9 2 2 2h14c1.1 0 2-.9 2-2V5c0-1.1-.9-2-2-2zM9 17H7v-7h2v7zm4 0h-2V7h2v10zm4 0h-2v-4h2v4z\"/>\n",
              "    </g>\n",
              "</svg>\n",
              "      </button>\n",
              "    </div>\n",
              "\n",
              "<style>\n",
              "  .colab-df-quickchart {\n",
              "    background-color: #E8F0FE;\n",
              "    border: none;\n",
              "    border-radius: 50%;\n",
              "    cursor: pointer;\n",
              "    display: none;\n",
              "    fill: #1967D2;\n",
              "    height: 32px;\n",
              "    padding: 0 0 0 0;\n",
              "    width: 32px;\n",
              "  }\n",
              "\n",
              "  .colab-df-quickchart:hover {\n",
              "    background-color: #E2EBFA;\n",
              "    box-shadow: 0px 1px 2px rgba(60, 64, 67, 0.3), 0px 1px 3px 1px rgba(60, 64, 67, 0.15);\n",
              "    fill: #174EA6;\n",
              "  }\n",
              "\n",
              "  [theme=dark] .colab-df-quickchart {\n",
              "    background-color: #3B4455;\n",
              "    fill: #D2E3FC;\n",
              "  }\n",
              "\n",
              "  [theme=dark] .colab-df-quickchart:hover {\n",
              "    background-color: #434B5C;\n",
              "    box-shadow: 0px 1px 3px 1px rgba(0, 0, 0, 0.15);\n",
              "    filter: drop-shadow(0px 1px 2px rgba(0, 0, 0, 0.3));\n",
              "    fill: #FFFFFF;\n",
              "  }\n",
              "</style>\n",
              "\n",
              "    <script>\n",
              "      async function quickchart(key) {\n",
              "        const containerElement = document.querySelector('#' + key);\n",
              "        const charts = await google.colab.kernel.invokeFunction(\n",
              "            'suggestCharts', [key], {});\n",
              "      }\n",
              "    </script>\n",
              "\n",
              "      <script>\n",
              "\n",
              "function displayQuickchartButton(domScope) {\n",
              "  let quickchartButtonEl =\n",
              "    domScope.querySelector('#df-937e596f-a1d9-4482-b8ef-117bddba1733 button.colab-df-quickchart');\n",
              "  quickchartButtonEl.style.display =\n",
              "    google.colab.kernel.accessAllowed ? 'block' : 'none';\n",
              "}\n",
              "\n",
              "        displayQuickchartButton(document);\n",
              "      </script>\n",
              "      <style>\n",
              "    .colab-df-container {\n",
              "      display:flex;\n",
              "      flex-wrap:wrap;\n",
              "      gap: 12px;\n",
              "    }\n",
              "\n",
              "    .colab-df-convert {\n",
              "      background-color: #E8F0FE;\n",
              "      border: none;\n",
              "      border-radius: 50%;\n",
              "      cursor: pointer;\n",
              "      display: none;\n",
              "      fill: #1967D2;\n",
              "      height: 32px;\n",
              "      padding: 0 0 0 0;\n",
              "      width: 32px;\n",
              "    }\n",
              "\n",
              "    .colab-df-convert:hover {\n",
              "      background-color: #E2EBFA;\n",
              "      box-shadow: 0px 1px 2px rgba(60, 64, 67, 0.3), 0px 1px 3px 1px rgba(60, 64, 67, 0.15);\n",
              "      fill: #174EA6;\n",
              "    }\n",
              "\n",
              "    [theme=dark] .colab-df-convert {\n",
              "      background-color: #3B4455;\n",
              "      fill: #D2E3FC;\n",
              "    }\n",
              "\n",
              "    [theme=dark] .colab-df-convert:hover {\n",
              "      background-color: #434B5C;\n",
              "      box-shadow: 0px 1px 3px 1px rgba(0, 0, 0, 0.15);\n",
              "      filter: drop-shadow(0px 1px 2px rgba(0, 0, 0, 0.3));\n",
              "      fill: #FFFFFF;\n",
              "    }\n",
              "  </style>\n",
              "\n",
              "      <script>\n",
              "        const buttonEl =\n",
              "          document.querySelector('#df-803c3d87-6265-42a8-a120-cf7034f0f81b button.colab-df-convert');\n",
              "        buttonEl.style.display =\n",
              "          google.colab.kernel.accessAllowed ? 'block' : 'none';\n",
              "\n",
              "        async function convertToInteractive(key) {\n",
              "          const element = document.querySelector('#df-803c3d87-6265-42a8-a120-cf7034f0f81b');\n",
              "          const dataTable =\n",
              "            await google.colab.kernel.invokeFunction('convertToInteractive',\n",
              "                                                     [key], {});\n",
              "          if (!dataTable) return;\n",
              "\n",
              "          const docLinkHtml = 'Like what you see? Visit the ' +\n",
              "            '<a target=\"_blank\" href=https://colab.research.google.com/notebooks/data_table.ipynb>data table notebook</a>'\n",
              "            + ' to learn more about interactive tables.';\n",
              "          element.innerHTML = '';\n",
              "          dataTable['output_type'] = 'display_data';\n",
              "          await google.colab.output.renderOutput(dataTable, element);\n",
              "          const docLink = document.createElement('div');\n",
              "          docLink.innerHTML = docLinkHtml;\n",
              "          element.appendChild(docLink);\n",
              "        }\n",
              "      </script>\n",
              "    </div>\n",
              "  </div>\n"
            ]
          },
          "metadata": {},
          "execution_count": 8
        }
      ]
    },
    {
      "cell_type": "code",
      "source": [
        "df = df.dropna().reset_index(drop=True)\n",
        "df.shape"
      ],
      "metadata": {
        "colab": {
          "base_uri": "https://localhost:8080/"
        },
        "id": "x2N3pvQZyWVO",
        "outputId": "af3ebd69-0050-49a5-fe3f-fce7438e9bd2"
      },
      "execution_count": null,
      "outputs": [
        {
          "output_type": "execute_result",
          "data": {
            "text/plain": [
              "(2484, 4)"
            ]
          },
          "metadata": {},
          "execution_count": 9
        }
      ]
    },
    {
      "cell_type": "code",
      "source": [
        "Category_list = df['Category'].to_list()\n",
        "category_count = {}\n",
        "\n",
        "for Category in Category_list:\n",
        "    if Category in category_count.keys():\n",
        "        category_count[Category] += 1\n",
        "    else:\n",
        "        category_count[Category] = 1\n",
        "\n",
        "print(f\"Number of Categories: {len(category_count)}\")\n",
        "print(category_count)\n",
        "\n",
        "threshold = int(len(df) * 0.01)\n",
        "rare_categories = [key for key, value in category_count.items() if value < threshold]\n",
        "len(rare_categories)\n"
      ],
      "metadata": {
        "colab": {
          "base_uri": "https://localhost:8080/"
        },
        "id": "IDPKCyOkdaZ9",
        "outputId": "71fb3b7e-0748-4ccb-ddd4-25b141c6585f"
      },
      "execution_count": null,
      "outputs": [
        {
          "output_type": "stream",
          "name": "stdout",
          "text": [
            "Number of Categories: 24\n",
            "{'HR': 110, 'DESIGNER': 107, 'INFORMATION-TECHNOLOGY': 120, 'TEACHER': 102, 'ADVOCATE': 118, 'BUSINESS-DEVELOPMENT': 120, 'HEALTHCARE': 115, 'FITNESS': 117, 'AGRICULTURE': 63, 'BPO': 22, 'SALES': 116, 'CONSULTANT': 115, 'DIGITAL-MEDIA': 96, 'AUTOMOBILE': 36, 'CHEF': 118, 'FINANCE': 118, 'APPAREL': 97, 'ENGINEERING': 118, 'ACCOUNTANT': 118, 'CONSTRUCTION': 112, 'PUBLIC-RELATIONS': 111, 'BANKING': 115, 'ARTS': 103, 'AVIATION': 117}\n"
          ]
        },
        {
          "output_type": "execute_result",
          "data": {
            "text/plain": [
              "1"
            ]
          },
          "metadata": {},
          "execution_count": 11
        }
      ]
    },
    {
      "cell_type": "code",
      "source": [
        "# Initialize a dictionary to count category occurrences\n",
        "category_count = {}\n",
        "\n",
        "# Iterate over the Category values\n",
        "for category in df['Category']:\n",
        "    if category in category_count:\n",
        "        category_count[category] += 1\n",
        "    else:\n",
        "        category_count[category] = 1\n",
        "\n",
        "print(f\"Total number of unique categories: {len(category_count)}\")\n",
        "print(category_count)"
      ],
      "metadata": {
        "colab": {
          "base_uri": "https://localhost:8080/"
        },
        "id": "Aafzj8xebdS8",
        "outputId": "28759636-2ba8-4bf4-9c57-523bcaafad29"
      },
      "execution_count": null,
      "outputs": [
        {
          "output_type": "stream",
          "name": "stdout",
          "text": [
            "Total number of unique categories: 23\n",
            "{'HR': 110, 'DESIGNER': 107, 'INFORMATION-TECHNOLOGY': 120, 'TEACHER': 102, 'ADVOCATE': 118, 'BUSINESS-DEVELOPMENT': 120, 'HEALTHCARE': 115, 'FITNESS': 117, 'AGRICULTURE': 63, 'SALES': 116, 'CONSULTANT': 115, 'DIGITAL-MEDIA': 96, 'AUTOMOBILE': 36, 'CHEF': 118, 'FINANCE': 118, 'APPAREL': 97, 'ENGINEERING': 118, 'ACCOUNTANT': 118, 'CONSTRUCTION': 112, 'PUBLIC-RELATIONS': 111, 'BANKING': 115, 'ARTS': 103, 'AVIATION': 117}\n"
          ]
        }
      ]
    },
    {
      "cell_type": "code",
      "source": [
        "Category_list = df['Category'].to_list()\n",
        "revised_category_list = []\n",
        "indices_to_drop = []\n",
        "\n",
        "for idx, Category in enumerate(Category_list):\n",
        "    if Category in rare_categories:\n",
        "        indices_to_drop.append(idx)\n",
        "    else:\n",
        "        revised_category_list.append(Category)\n",
        "\n",
        "df = df.drop(indices_to_drop).reset_index(drop=True)\n",
        "df['revised_Category'] = revised_category_list\n",
        "df.shape\n"
      ],
      "metadata": {
        "colab": {
          "base_uri": "https://localhost:8080/"
        },
        "id": "KY3ldAPYeoA1",
        "outputId": "c811bae6-610e-4915-d08f-a17e8aaf0e11"
      },
      "execution_count": null,
      "outputs": [
        {
          "output_type": "execute_result",
          "data": {
            "text/plain": [
              "(2462, 6)"
            ]
          },
          "metadata": {},
          "execution_count": 66
        }
      ]
    },
    {
      "cell_type": "code",
      "source": [
        "# Encoding the categories\n",
        "revised_Category_list = df['revised_Category'].to_list()\n",
        "revised_category_count = {}\n",
        "\n",
        "for Category in revised_Category_list:\n",
        "    if Category in revised_category_count.keys():\n",
        "        revised_category_count[Category] += 1\n",
        "    else:\n",
        "        revised_category_count[Category] = 1\n",
        "\n",
        "print(f\"Number of Categories: {len(revised_category_count)}\")\n",
        "\n",
        "encode_category_types = {category: idx for idx, category in enumerate(revised_category_count.keys())}\n",
        "with open(\"category_types_encoded.json\", \"w\") as fp:\n",
        "    json.dump(encode_category_types, fp)\n",
        "\n",
        "# Creating one-hot encoded vectors for each category\n",
        "categorical_category_list = []\n",
        "revised_Category_list = df['revised_Category'].to_list()\n",
        "\n",
        "for revised_Category in revised_Category_list:\n",
        "    categorical_list = [0] * len(encode_category_types)\n",
        "    category_type_index = encode_category_types[revised_Category]\n",
        "    categorical_list[category_type_index] = 1\n",
        "    categorical_category_list.append(categorical_list)\n",
        "\n",
        "df['category_cat_list'] = categorical_category_list\n",
        "df.shape\n",
        "\n",
        "labels = list(encode_category_types.keys())\n",
        "len(labels), labels[:5]\n"
      ],
      "metadata": {
        "colab": {
          "base_uri": "https://localhost:8080/"
        },
        "id": "KV76m7jfrVIz",
        "outputId": "0a8b0556-31e5-4a89-a300-5a05eb9a1a30"
      },
      "execution_count": null,
      "outputs": [
        {
          "output_type": "stream",
          "name": "stdout",
          "text": [
            "Number of Categories: 23\n"
          ]
        },
        {
          "output_type": "execute_result",
          "data": {
            "text/plain": [
              "(23, ['HR', 'DESIGNER', 'INFORMATION-TECHNOLOGY', 'TEACHER', 'ADVOCATE'])"
            ]
          },
          "metadata": {},
          "execution_count": 71
        }
      ]
    },
    {
      "cell_type": "markdown",
      "source": [
        "# Data Split"
      ],
      "metadata": {
        "id": "6UIk-nebzjp3"
      }
    },
    {
      "cell_type": "code",
      "source": [
        "splitter = RandomSplitter(valid_pct=0.1, seed=42)\n",
        "train_ids, valid_ids = splitter(df)\n",
        "len(train_ids), len(valid_ids)"
      ],
      "metadata": {
        "colab": {
          "base_uri": "https://localhost:8080/"
        },
        "id": "zlCDrzRN0BLn",
        "outputId": "06b47e84-9fa7-4581-be4d-892a46aa150f"
      },
      "execution_count": null,
      "outputs": [
        {
          "output_type": "execute_result",
          "data": {
            "text/plain": [
              "(2216, 246)"
            ]
          },
          "metadata": {},
          "execution_count": 72
        }
      ]
    },
    {
      "cell_type": "code",
      "source": [
        "valid_df = df.loc[valid_ids]\n",
        "valid_df.head()"
      ],
      "metadata": {
        "colab": {
          "base_uri": "https://localhost:8080/",
          "height": 1000
        },
        "id": "ONSE-r4UEiWD",
        "outputId": "2c9a1af7-1e7a-4301-d40b-9833c266961a"
      },
      "execution_count": null,
      "outputs": [
        {
          "output_type": "execute_result",
          "data": {
            "text/plain": [
              "            ID  \\\n",
              "1210  19861776   \n",
              "1372  47317494   \n",
              "1758  17488801   \n",
              "30    49937469   \n",
              "2336  12334650   \n",
              "\n",
              "                                                                                                                                                                                                                                                                                                                                                                                                                                                                                                                                                                                                                   Resume_str  \\\n",
              "1210           VP DIGITAL MEDIA SERVICES AND CONTENT DISTRIBUTION       Professional Summary    \"A cross-functional product, operations & technology leader executing at the intersection of media, multi channel distribution, IT Services, and the consumer.\"  \\nTransformation & Leadership-      Skills                    Work History     01/2009   to   01/2010     VP Digital Media Services And Content Distribution      Company Name   –   City  ,   State      Led SaaS file based workflow post production, editing, packaging, distribution, and content servicing P&L for clients including Sony Pictures E...   \n",
              "1372           ASSISTANT CHEF         Highlights        Microsoft Word, Excel, PowerPoint, and Access              Experience         May 2015   to   Current      Company Name   －   City  ,   State          Assistant Chef     Oct 2008   to   Nov 2011       Developed and prepared meals.  Coordinated with manager and supervised kitchen staff.  Communicated with clients to fulfill their needs.         Financial Aid Office Assistant     Jun 2013   to   Jun 2015      Company Name   －   City  ,   State     Developed excel projects for budgeting, calculating student needs, etc.  Evaluated and processed...   \n",
              "1758           ENGINEERING MANAGER/QUALITY MANAGER           Profile     Results driven Mechanical Engineer with excellent technical, analytical, and communication skills. A record of positive achievement demonstrated by extensive participation and leadership in Manufacturing Engineering, Engineering Management, and Production Management projects. Additional experience in design, marketing and manufacturing support for fabricated metal products used for polymer filtration, turbine engine gas path seals, aerospace and industrial acoustic treatments, and thermal barrier systems. Four years experie...   \n",
              "30             HR ASSISTANT             Highlights          Interviewing expertise  Employee Relations  Manager Coaching and training  Event management  Employee Handbook development  Staffing and recruiting professional  Off-boarding              Accomplishments      Organized HR Generalist effective at record maintenance and assuring compliance with government employment regulations at all times.  Personable HR Generalist versed in recruiting top employees to automotive companies and innovative start-ups.  Experience with public speaking on college campuses to attract new talent.        Experi...   \n",
              "2336           FOOD SERVER       Summary     I have sixteen years of experience in the customer service industry. My experience includes, customer-oriented food server, crew trainer and housekeeper with a deep experience with POS systems and cash handling procedures. I have four years experience with  Microsoft Office  and  Adobe Media Arts Software.         Highlights          Microsoft Office Excel  Microsoft Office Access  Microsoft Office Word  Microsoft Office PowerPoint  Adobe PhotoShop  Adobe Illustrator      Math and language skills  Excellent multi-tasker  Conversant in SpanishDelivers ...   \n",
              "\n",
              "                                                                                                                                                                                                                                                                                                                                                                                                                                                                                                                                                                                                                  Resume_html  \\\n",
              "1210  <div class=\"fontsize fontface vmargins hmargins linespacing pagesize\" id=\"document\"> <div class=\"section firstsection\" id=\"SECTION_NAME510638362\" style=\"\\n      padding-top:0px;\\n    \"> <div class=\"paragraph PARAGRAPH_NAME firstparagraph\" id=\"PARAGRAPH_510638362_1_333415975\"> <div class=\"name\" itemprop=\"name\"> <span class=\"field\" id=\"510638362FNAM1\"> </span> <span> </span> <span class=\"field\" id=\"510638362LNAM1\"> VP DIGITAL MEDIA SERVICES AND CONTENT DISTRIBUTION</span> </div> </div> </div> <div class=\"section\" id=\"SECTION_SUMM510638366\" style=\"\\n      padding-top:0px;\\n    \"> <div class=\"...   \n",
              "1372  <div class=\"fontsize fontface vmargins hmargins linespacing pagesize\" id=\"document\"> <div class=\"section firstsection\" id=\"SECTION_NAME671663241\" style=\"padding-top:0px;\"> <div class=\"paragraph PARAGRAPH_NAME firstparagraph\" id=\"PARAGRAPH_671663241_1_436672048\" style=\"padding-top:0px;\"> <div class=\"name\" itemprop=\"name\"> <span class=\"field fName\" id=\"671663241FNAM1\"> </span> <span> </span> <span class=\"field\" id=\"671663241LNAM1\"> ASSISTANT CHEF</span> </div> </div> </div> <div class=\"section\" id=\"SECTION_SUMM671663243\" style=\"padding-top:0px;\"> </div> <div class=\"section\" id=\"SECTION_HILT6...   \n",
              "1758  <div class=\"fontsize fontface vmargins hmargins linespacing pagesize\" id=\"document\"> <div class=\"section firstsection\" id=\"SECTION_NAME701803666\" style=\"padding-top:0px;\"> <div class=\"paragraph PARAGRAPH_NAME firstparagraph\" id=\"PARAGRAPH_701803666_1_454975056\" style=\"padding-top:0px;\"> <div class=\"name thinbottomborder\" itemprop=\"name\"> <span class=\"field\" id=\"701803666FNAM1\"> </span> <span> </span> <span class=\"field\" id=\"701803666LNAM1\"> ENGINEERING MANAGER/QUALITY MANAGER</span> </div> <div class=\"myGap\"> </div> <div class=\"lowerborder thinbottomborder\"> </div> </div> </div> <div class...   \n",
              "30    <div class=\"fontsize fontface vmargins hmargins linespacing pagesize\" id=\"document\"> <div class=\"section firstsection\" id=\"SECTION_NAME819409613\" style=\"padding-top:0px;\"> <div class=\"paragraph PARAGRAPH_NAME firstparagraph\" id=\"PARAGRAPH_819409613_1_532997725\" style=\"padding-top:0px;\"> <div class=\"name thinbottomborder\" itemprop=\"name\"> <span class=\"field\" id=\"819409613FNAM1\"> </span> <span> </span> <span class=\"field\" id=\"819409613LNAM1\"> HR ASSISTANT</span> </div> <div class=\"myGap\"> </div> <div class=\"lowerborder thinbottomborder\"> </div> </div> </div> <div class=\"section\" id=\"SECTION_...   \n",
              "2336  <div class=\"fontsize fontface vmargins hmargins linespacing pagesize\" id=\"document\"> <div class=\"section firstsection\" id=\"SECTION_NAME494208808\" style=\"\\n      padding-top:0px;\\n    \"> <div class=\"paragraph PARAGRAPH_NAME firstparagraph\" id=\"PARAGRAPH_494208808_1_322364307\" style=\"\\n      padding-top:0px;\\n    \"> <div class=\"name\" itemprop=\"name\"> <span class=\"field fName\" id=\"494208808FNAM1\"> </span> <span> </span> <span class=\"field\" id=\"494208808LNAM1\"> FOOD SERVER</span> </div> </div> </div> <div class=\"section\" id=\"SECTION_SUMM494208810\" style=\"\\n      padding-top:0px;\\n    \"> <div c...   \n",
              "\n",
              "           Category revised_Category  \\\n",
              "1210  DIGITAL-MEDIA    DIGITAL-MEDIA   \n",
              "1372           CHEF             CHEF   \n",
              "1758    ENGINEERING      ENGINEERING   \n",
              "30               HR               HR   \n",
              "2336           ARTS             ARTS   \n",
              "\n",
              "                                                          category_cat_list  \n",
              "1210  [0, 0, 0, 0, 0, 0, 0, 0, 0, 0, 0, 1, 0, 0, 0, 0, 0, 0, 0, 0, 0, 0, 0]  \n",
              "1372  [0, 0, 0, 0, 0, 0, 0, 0, 0, 0, 0, 0, 0, 1, 0, 0, 0, 0, 0, 0, 0, 0, 0]  \n",
              "1758  [0, 0, 0, 0, 0, 0, 0, 0, 0, 0, 0, 0, 0, 0, 0, 0, 1, 0, 0, 0, 0, 0, 0]  \n",
              "30    [1, 0, 0, 0, 0, 0, 0, 0, 0, 0, 0, 0, 0, 0, 0, 0, 0, 0, 0, 0, 0, 0, 0]  \n",
              "2336  [0, 0, 0, 0, 0, 0, 0, 0, 0, 0, 0, 0, 0, 0, 0, 0, 0, 0, 0, 0, 0, 1, 0]  "
            ],
            "text/html": [
              "\n",
              "\n",
              "  <div id=\"df-fbc1c4c7-65a2-4109-ad9c-6fc89a5bba11\">\n",
              "    <div class=\"colab-df-container\">\n",
              "      <div>\n",
              "<style scoped>\n",
              "    .dataframe tbody tr th:only-of-type {\n",
              "        vertical-align: middle;\n",
              "    }\n",
              "\n",
              "    .dataframe tbody tr th {\n",
              "        vertical-align: top;\n",
              "    }\n",
              "\n",
              "    .dataframe thead th {\n",
              "        text-align: right;\n",
              "    }\n",
              "</style>\n",
              "<table border=\"1\" class=\"dataframe\">\n",
              "  <thead>\n",
              "    <tr style=\"text-align: right;\">\n",
              "      <th></th>\n",
              "      <th>ID</th>\n",
              "      <th>Resume_str</th>\n",
              "      <th>Resume_html</th>\n",
              "      <th>Category</th>\n",
              "      <th>revised_Category</th>\n",
              "      <th>category_cat_list</th>\n",
              "    </tr>\n",
              "  </thead>\n",
              "  <tbody>\n",
              "    <tr>\n",
              "      <th>1210</th>\n",
              "      <td>19861776</td>\n",
              "      <td>VP DIGITAL MEDIA SERVICES AND CONTENT DISTRIBUTION       Professional Summary    \"A cross-functional product, operations &amp; technology leader executing at the intersection of media, multi channel distribution, IT Services, and the consumer.\"  \\nTransformation &amp; Leadership-      Skills                    Work History     01/2009   to   01/2010     VP Digital Media Services And Content Distribution      Company Name   –   City  ,   State      Led SaaS file based workflow post production, editing, packaging, distribution, and content servicing P&amp;L for clients including Sony Pictures E...</td>\n",
              "      <td>&lt;div class=\"fontsize fontface vmargins hmargins linespacing pagesize\" id=\"document\"&gt; &lt;div class=\"section firstsection\" id=\"SECTION_NAME510638362\" style=\"\\n      padding-top:0px;\\n    \"&gt; &lt;div class=\"paragraph PARAGRAPH_NAME firstparagraph\" id=\"PARAGRAPH_510638362_1_333415975\"&gt; &lt;div class=\"name\" itemprop=\"name\"&gt; &lt;span class=\"field\" id=\"510638362FNAM1\"&gt; &lt;/span&gt; &lt;span&gt; &lt;/span&gt; &lt;span class=\"field\" id=\"510638362LNAM1\"&gt; VP DIGITAL MEDIA SERVICES AND CONTENT DISTRIBUTION&lt;/span&gt; &lt;/div&gt; &lt;/div&gt; &lt;/div&gt; &lt;div class=\"section\" id=\"SECTION_SUMM510638366\" style=\"\\n      padding-top:0px;\\n    \"&gt; &lt;div class=\"...</td>\n",
              "      <td>DIGITAL-MEDIA</td>\n",
              "      <td>DIGITAL-MEDIA</td>\n",
              "      <td>[0, 0, 0, 0, 0, 0, 0, 0, 0, 0, 0, 1, 0, 0, 0, 0, 0, 0, 0, 0, 0, 0, 0]</td>\n",
              "    </tr>\n",
              "    <tr>\n",
              "      <th>1372</th>\n",
              "      <td>47317494</td>\n",
              "      <td>ASSISTANT CHEF         Highlights        Microsoft Word, Excel, PowerPoint, and Access              Experience         May 2015   to   Current      Company Name   －   City  ,   State          Assistant Chef     Oct 2008   to   Nov 2011       Developed and prepared meals.  Coordinated with manager and supervised kitchen staff.  Communicated with clients to fulfill their needs.         Financial Aid Office Assistant     Jun 2013   to   Jun 2015      Company Name   －   City  ,   State     Developed excel projects for budgeting, calculating student needs, etc.  Evaluated and processed...</td>\n",
              "      <td>&lt;div class=\"fontsize fontface vmargins hmargins linespacing pagesize\" id=\"document\"&gt; &lt;div class=\"section firstsection\" id=\"SECTION_NAME671663241\" style=\"padding-top:0px;\"&gt; &lt;div class=\"paragraph PARAGRAPH_NAME firstparagraph\" id=\"PARAGRAPH_671663241_1_436672048\" style=\"padding-top:0px;\"&gt; &lt;div class=\"name\" itemprop=\"name\"&gt; &lt;span class=\"field fName\" id=\"671663241FNAM1\"&gt; &lt;/span&gt; &lt;span&gt; &lt;/span&gt; &lt;span class=\"field\" id=\"671663241LNAM1\"&gt; ASSISTANT CHEF&lt;/span&gt; &lt;/div&gt; &lt;/div&gt; &lt;/div&gt; &lt;div class=\"section\" id=\"SECTION_SUMM671663243\" style=\"padding-top:0px;\"&gt; &lt;/div&gt; &lt;div class=\"section\" id=\"SECTION_HILT6...</td>\n",
              "      <td>CHEF</td>\n",
              "      <td>CHEF</td>\n",
              "      <td>[0, 0, 0, 0, 0, 0, 0, 0, 0, 0, 0, 0, 0, 1, 0, 0, 0, 0, 0, 0, 0, 0, 0]</td>\n",
              "    </tr>\n",
              "    <tr>\n",
              "      <th>1758</th>\n",
              "      <td>17488801</td>\n",
              "      <td>ENGINEERING MANAGER/QUALITY MANAGER           Profile     Results driven Mechanical Engineer with excellent technical, analytical, and communication skills. A record of positive achievement demonstrated by extensive participation and leadership in Manufacturing Engineering, Engineering Management, and Production Management projects. Additional experience in design, marketing and manufacturing support for fabricated metal products used for polymer filtration, turbine engine gas path seals, aerospace and industrial acoustic treatments, and thermal barrier systems. Four years experie...</td>\n",
              "      <td>&lt;div class=\"fontsize fontface vmargins hmargins linespacing pagesize\" id=\"document\"&gt; &lt;div class=\"section firstsection\" id=\"SECTION_NAME701803666\" style=\"padding-top:0px;\"&gt; &lt;div class=\"paragraph PARAGRAPH_NAME firstparagraph\" id=\"PARAGRAPH_701803666_1_454975056\" style=\"padding-top:0px;\"&gt; &lt;div class=\"name thinbottomborder\" itemprop=\"name\"&gt; &lt;span class=\"field\" id=\"701803666FNAM1\"&gt; &lt;/span&gt; &lt;span&gt; &lt;/span&gt; &lt;span class=\"field\" id=\"701803666LNAM1\"&gt; ENGINEERING MANAGER/QUALITY MANAGER&lt;/span&gt; &lt;/div&gt; &lt;div class=\"myGap\"&gt; &lt;/div&gt; &lt;div class=\"lowerborder thinbottomborder\"&gt; &lt;/div&gt; &lt;/div&gt; &lt;/div&gt; &lt;div class...</td>\n",
              "      <td>ENGINEERING</td>\n",
              "      <td>ENGINEERING</td>\n",
              "      <td>[0, 0, 0, 0, 0, 0, 0, 0, 0, 0, 0, 0, 0, 0, 0, 0, 1, 0, 0, 0, 0, 0, 0]</td>\n",
              "    </tr>\n",
              "    <tr>\n",
              "      <th>30</th>\n",
              "      <td>49937469</td>\n",
              "      <td>HR ASSISTANT             Highlights          Interviewing expertise  Employee Relations  Manager Coaching and training  Event management  Employee Handbook development  Staffing and recruiting professional  Off-boarding              Accomplishments      Organized HR Generalist effective at record maintenance and assuring compliance with government employment regulations at all times.  Personable HR Generalist versed in recruiting top employees to automotive companies and innovative start-ups.  Experience with public speaking on college campuses to attract new talent.        Experi...</td>\n",
              "      <td>&lt;div class=\"fontsize fontface vmargins hmargins linespacing pagesize\" id=\"document\"&gt; &lt;div class=\"section firstsection\" id=\"SECTION_NAME819409613\" style=\"padding-top:0px;\"&gt; &lt;div class=\"paragraph PARAGRAPH_NAME firstparagraph\" id=\"PARAGRAPH_819409613_1_532997725\" style=\"padding-top:0px;\"&gt; &lt;div class=\"name thinbottomborder\" itemprop=\"name\"&gt; &lt;span class=\"field\" id=\"819409613FNAM1\"&gt; &lt;/span&gt; &lt;span&gt; &lt;/span&gt; &lt;span class=\"field\" id=\"819409613LNAM1\"&gt; HR ASSISTANT&lt;/span&gt; &lt;/div&gt; &lt;div class=\"myGap\"&gt; &lt;/div&gt; &lt;div class=\"lowerborder thinbottomborder\"&gt; &lt;/div&gt; &lt;/div&gt; &lt;/div&gt; &lt;div class=\"section\" id=\"SECTION_...</td>\n",
              "      <td>HR</td>\n",
              "      <td>HR</td>\n",
              "      <td>[1, 0, 0, 0, 0, 0, 0, 0, 0, 0, 0, 0, 0, 0, 0, 0, 0, 0, 0, 0, 0, 0, 0]</td>\n",
              "    </tr>\n",
              "    <tr>\n",
              "      <th>2336</th>\n",
              "      <td>12334650</td>\n",
              "      <td>FOOD SERVER       Summary     I have sixteen years of experience in the customer service industry. My experience includes, customer-oriented food server, crew trainer and housekeeper with a deep experience with POS systems and cash handling procedures. I have four years experience with  Microsoft Office  and  Adobe Media Arts Software.         Highlights          Microsoft Office Excel  Microsoft Office Access  Microsoft Office Word  Microsoft Office PowerPoint  Adobe PhotoShop  Adobe Illustrator      Math and language skills  Excellent multi-tasker  Conversant in SpanishDelivers ...</td>\n",
              "      <td>&lt;div class=\"fontsize fontface vmargins hmargins linespacing pagesize\" id=\"document\"&gt; &lt;div class=\"section firstsection\" id=\"SECTION_NAME494208808\" style=\"\\n      padding-top:0px;\\n    \"&gt; &lt;div class=\"paragraph PARAGRAPH_NAME firstparagraph\" id=\"PARAGRAPH_494208808_1_322364307\" style=\"\\n      padding-top:0px;\\n    \"&gt; &lt;div class=\"name\" itemprop=\"name\"&gt; &lt;span class=\"field fName\" id=\"494208808FNAM1\"&gt; &lt;/span&gt; &lt;span&gt; &lt;/span&gt; &lt;span class=\"field\" id=\"494208808LNAM1\"&gt; FOOD SERVER&lt;/span&gt; &lt;/div&gt; &lt;/div&gt; &lt;/div&gt; &lt;div class=\"section\" id=\"SECTION_SUMM494208810\" style=\"\\n      padding-top:0px;\\n    \"&gt; &lt;div c...</td>\n",
              "      <td>ARTS</td>\n",
              "      <td>ARTS</td>\n",
              "      <td>[0, 0, 0, 0, 0, 0, 0, 0, 0, 0, 0, 0, 0, 0, 0, 0, 0, 0, 0, 0, 0, 1, 0]</td>\n",
              "    </tr>\n",
              "  </tbody>\n",
              "</table>\n",
              "</div>\n",
              "      <button class=\"colab-df-convert\" onclick=\"convertToInteractive('df-fbc1c4c7-65a2-4109-ad9c-6fc89a5bba11')\"\n",
              "              title=\"Convert this dataframe to an interactive table.\"\n",
              "              style=\"display:none;\">\n",
              "\n",
              "  <svg xmlns=\"http://www.w3.org/2000/svg\" height=\"24px\"viewBox=\"0 0 24 24\"\n",
              "       width=\"24px\">\n",
              "    <path d=\"M0 0h24v24H0V0z\" fill=\"none\"/>\n",
              "    <path d=\"M18.56 5.44l.94 2.06.94-2.06 2.06-.94-2.06-.94-.94-2.06-.94 2.06-2.06.94zm-11 1L8.5 8.5l.94-2.06 2.06-.94-2.06-.94L8.5 2.5l-.94 2.06-2.06.94zm10 10l.94 2.06.94-2.06 2.06-.94-2.06-.94-.94-2.06-.94 2.06-2.06.94z\"/><path d=\"M17.41 7.96l-1.37-1.37c-.4-.4-.92-.59-1.43-.59-.52 0-1.04.2-1.43.59L10.3 9.45l-7.72 7.72c-.78.78-.78 2.05 0 2.83L4 21.41c.39.39.9.59 1.41.59.51 0 1.02-.2 1.41-.59l7.78-7.78 2.81-2.81c.8-.78.8-2.07 0-2.86zM5.41 20L4 18.59l7.72-7.72 1.47 1.35L5.41 20z\"/>\n",
              "  </svg>\n",
              "      </button>\n",
              "\n",
              "\n",
              "\n",
              "    <div id=\"df-86f0ab59-52f6-45ff-aff1-5ede9ecaa578\">\n",
              "      <button class=\"colab-df-quickchart\" onclick=\"quickchart('df-86f0ab59-52f6-45ff-aff1-5ede9ecaa578')\"\n",
              "              title=\"Suggest charts.\"\n",
              "              style=\"display:none;\">\n",
              "\n",
              "<svg xmlns=\"http://www.w3.org/2000/svg\" height=\"24px\"viewBox=\"0 0 24 24\"\n",
              "     width=\"24px\">\n",
              "    <g>\n",
              "        <path d=\"M19 3H5c-1.1 0-2 .9-2 2v14c0 1.1.9 2 2 2h14c1.1 0 2-.9 2-2V5c0-1.1-.9-2-2-2zM9 17H7v-7h2v7zm4 0h-2V7h2v10zm4 0h-2v-4h2v4z\"/>\n",
              "    </g>\n",
              "</svg>\n",
              "      </button>\n",
              "    </div>\n",
              "\n",
              "<style>\n",
              "  .colab-df-quickchart {\n",
              "    background-color: #E8F0FE;\n",
              "    border: none;\n",
              "    border-radius: 50%;\n",
              "    cursor: pointer;\n",
              "    display: none;\n",
              "    fill: #1967D2;\n",
              "    height: 32px;\n",
              "    padding: 0 0 0 0;\n",
              "    width: 32px;\n",
              "  }\n",
              "\n",
              "  .colab-df-quickchart:hover {\n",
              "    background-color: #E2EBFA;\n",
              "    box-shadow: 0px 1px 2px rgba(60, 64, 67, 0.3), 0px 1px 3px 1px rgba(60, 64, 67, 0.15);\n",
              "    fill: #174EA6;\n",
              "  }\n",
              "\n",
              "  [theme=dark] .colab-df-quickchart {\n",
              "    background-color: #3B4455;\n",
              "    fill: #D2E3FC;\n",
              "  }\n",
              "\n",
              "  [theme=dark] .colab-df-quickchart:hover {\n",
              "    background-color: #434B5C;\n",
              "    box-shadow: 0px 1px 3px 1px rgba(0, 0, 0, 0.15);\n",
              "    filter: drop-shadow(0px 1px 2px rgba(0, 0, 0, 0.3));\n",
              "    fill: #FFFFFF;\n",
              "  }\n",
              "</style>\n",
              "\n",
              "    <script>\n",
              "      async function quickchart(key) {\n",
              "        const containerElement = document.querySelector('#' + key);\n",
              "        const charts = await google.colab.kernel.invokeFunction(\n",
              "            'suggestCharts', [key], {});\n",
              "      }\n",
              "    </script>\n",
              "\n",
              "      <script>\n",
              "\n",
              "function displayQuickchartButton(domScope) {\n",
              "  let quickchartButtonEl =\n",
              "    domScope.querySelector('#df-86f0ab59-52f6-45ff-aff1-5ede9ecaa578 button.colab-df-quickchart');\n",
              "  quickchartButtonEl.style.display =\n",
              "    google.colab.kernel.accessAllowed ? 'block' : 'none';\n",
              "}\n",
              "\n",
              "        displayQuickchartButton(document);\n",
              "      </script>\n",
              "      <style>\n",
              "    .colab-df-container {\n",
              "      display:flex;\n",
              "      flex-wrap:wrap;\n",
              "      gap: 12px;\n",
              "    }\n",
              "\n",
              "    .colab-df-convert {\n",
              "      background-color: #E8F0FE;\n",
              "      border: none;\n",
              "      border-radius: 50%;\n",
              "      cursor: pointer;\n",
              "      display: none;\n",
              "      fill: #1967D2;\n",
              "      height: 32px;\n",
              "      padding: 0 0 0 0;\n",
              "      width: 32px;\n",
              "    }\n",
              "\n",
              "    .colab-df-convert:hover {\n",
              "      background-color: #E2EBFA;\n",
              "      box-shadow: 0px 1px 2px rgba(60, 64, 67, 0.3), 0px 1px 3px 1px rgba(60, 64, 67, 0.15);\n",
              "      fill: #174EA6;\n",
              "    }\n",
              "\n",
              "    [theme=dark] .colab-df-convert {\n",
              "      background-color: #3B4455;\n",
              "      fill: #D2E3FC;\n",
              "    }\n",
              "\n",
              "    [theme=dark] .colab-df-convert:hover {\n",
              "      background-color: #434B5C;\n",
              "      box-shadow: 0px 1px 3px 1px rgba(0, 0, 0, 0.15);\n",
              "      filter: drop-shadow(0px 1px 2px rgba(0, 0, 0, 0.3));\n",
              "      fill: #FFFFFF;\n",
              "    }\n",
              "  </style>\n",
              "\n",
              "      <script>\n",
              "        const buttonEl =\n",
              "          document.querySelector('#df-fbc1c4c7-65a2-4109-ad9c-6fc89a5bba11 button.colab-df-convert');\n",
              "        buttonEl.style.display =\n",
              "          google.colab.kernel.accessAllowed ? 'block' : 'none';\n",
              "\n",
              "        async function convertToInteractive(key) {\n",
              "          const element = document.querySelector('#df-fbc1c4c7-65a2-4109-ad9c-6fc89a5bba11');\n",
              "          const dataTable =\n",
              "            await google.colab.kernel.invokeFunction('convertToInteractive',\n",
              "                                                     [key], {});\n",
              "          if (!dataTable) return;\n",
              "\n",
              "          const docLinkHtml = 'Like what you see? Visit the ' +\n",
              "            '<a target=\"_blank\" href=https://colab.research.google.com/notebooks/data_table.ipynb>data table notebook</a>'\n",
              "            + ' to learn more about interactive tables.';\n",
              "          element.innerHTML = '';\n",
              "          dataTable['output_type'] = 'display_data';\n",
              "          await google.colab.output.renderOutput(dataTable, element);\n",
              "          const docLink = document.createElement('div');\n",
              "          docLink.innerHTML = docLinkHtml;\n",
              "          element.appendChild(docLink);\n",
              "        }\n",
              "      </script>\n",
              "    </div>\n",
              "  </div>\n"
            ]
          },
          "metadata": {},
          "execution_count": 73
        }
      ]
    },
    {
      "cell_type": "markdown",
      "source": [
        "# Fastai & Blurr Inference"
      ],
      "metadata": {
        "id": "k48Mzr8yy97P"
      }
    },
    {
      "cell_type": "code",
      "source": [
        "model_path = \"models/resume-classifier-stage-01.pkl\"\n",
        "learner_inf = load_learner(model_path)"
      ],
      "metadata": {
        "id": "SWDpv__nzCYX"
      },
      "execution_count": null,
      "outputs": []
    },
    {
      "cell_type": "code",
      "source": [
        "learner_inf.blurr_predict(\"random placeholder\")"
      ],
      "metadata": {
        "id": "5uoheElKzURd",
        "colab": {
          "base_uri": "https://localhost:8080/"
        },
        "outputId": "858ef282-0155-41b4-cc5c-3b746352f28a"
      },
      "execution_count": null,
      "outputs": [
        {
          "output_type": "execute_result",
          "data": {
            "text/plain": [
              "[{'labels': [],\n",
              "  'scores': [],\n",
              "  'class_indices': [0,\n",
              "   0,\n",
              "   0,\n",
              "   0,\n",
              "   0,\n",
              "   0,\n",
              "   0,\n",
              "   0,\n",
              "   0,\n",
              "   0,\n",
              "   0,\n",
              "   0,\n",
              "   0,\n",
              "   0,\n",
              "   0,\n",
              "   0,\n",
              "   0,\n",
              "   0,\n",
              "   0,\n",
              "   0,\n",
              "   0,\n",
              "   0,\n",
              "   0,\n",
              "   0],\n",
              "  'class_labels': ['HR', 'DESIGNER', 'INFORMATION-TECHNOLOGY', 'TEACHER', 'ADVOCATE', 'BUSINESS-DEVELOPMENT', 'HEALTHCARE', 'FITNESS', 'AGRICULTURE', 'BPO', 'SALES', 'CONSULTANT', 'DIGITAL-MEDIA', 'AUTOMOBILE', 'CHEF', 'FINANCE', 'APPAREL', 'ENGINEERING', 'ACCOUNTANT', 'CONSTRUCTION', 'PUBLIC-RELATIONS', 'BANKING', 'ARTS', 'AVIATION'],\n",
              "  'probs': [0.0063375914469361305,\n",
              "   0.09499392658472061,\n",
              "   0.05774011090397835,\n",
              "   0.02488647773861885,\n",
              "   0.13844802975654602,\n",
              "   0.039755675941705704,\n",
              "   0.036048516631126404,\n",
              "   0.02425035834312439,\n",
              "   0.07787685096263885,\n",
              "   0.006637681275606155,\n",
              "   0.021478021517395973,\n",
              "   0.11468733847141266,\n",
              "   0.016664061695337296,\n",
              "   0.010867638513445854,\n",
              "   0.035364169627428055,\n",
              "   0.002359604462981224,\n",
              "   0.10994306206703186,\n",
              "   0.009472442790865898,\n",
              "   0.010222086682915688,\n",
              "   0.02164553664624691,\n",
              "   0.048829566687345505,\n",
              "   0.029358185827732086,\n",
              "   0.07460203021764755,\n",
              "   0.05589311197400093]}]"
            ]
          },
          "metadata": {},
          "execution_count": 75
        }
      ]
    },
    {
      "cell_type": "markdown",
      "source": [
        "## Evaluation"
      ],
      "metadata": {
        "id": "QYRg4ExrCi4P"
      }
    },
    {
      "cell_type": "code",
      "source": [
        "from sklearn import metrics\n",
        "\n",
        "def metric_measures(test_df, preds):\n",
        "\n",
        "  targets = [np.asarray(target) for target in test_df['category_cat_list'].to_list()]\n",
        "  outputs = [np.asarray(pred) for pred in preds]\n",
        "\n",
        "\n",
        "  accuracy = metrics.accuracy_score(targets, outputs)\n",
        "  f1_score_micro = metrics.f1_score(targets, outputs, average='micro')\n",
        "  f1_score_macro = metrics.f1_score(targets, outputs, average='macro')\n",
        "\n",
        "  print(f\"F1 Score (Micro) = {f1_score_micro}\")\n",
        "  print(f\"F1 Score (Macro) = {f1_score_macro}\")\n",
        "\n",
        "  return"
      ],
      "metadata": {
        "id": "wzQc7GDWCkbX"
      },
      "execution_count": null,
      "outputs": []
    },
    {
      "cell_type": "code",
      "source": [
        "preds = []\n",
        "for idx, row in tqdm(valid_df.iterrows(), total=len(valid_df)):\n",
        "  resume = row['Resume_str']\n",
        "  labels = learner_inf.blurr_predict(resume)[0]['labels']\n",
        "  pred_Category = [0] * len(encode_category_types)\n",
        "  for label in labels:\n",
        "    pred_Category[encode_category_types[label]] = 1\n",
        "  preds.append(pred_Category)\n",
        "\n",
        "preds[0][:20]"
      ],
      "metadata": {
        "colab": {
          "base_uri": "https://localhost:8080/",
          "height": 66,
          "referenced_widgets": [
            "ac2edaf75b654eb58baac37bf944c8ec",
            "ea8fbf7368df4eb09206665a20f848ff",
            "6a47b61b6bd349ba9634c5f208569499",
            "c9c518f6199149dba16aa6f640a25407",
            "3d8f0f9423aa4981aa7aac38ec5d4cd0",
            "960de48a6b1942ba80b783fc88988d8e",
            "fbcec63a2ed042ec805675f2d181181d",
            "e66ad5a5cbc94c269ca144b4dbcc5329",
            "2458fd7020be419bb4ad05b1c6a5a189",
            "bd8a4b5d6dd042a884daec0e7f2c6e4e",
            "759b1e63d2714fb295ae2d87867738b1"
          ]
        },
        "id": "c4-5Qmr1C4aA",
        "outputId": "71fa8abd-00fb-4b2e-e201-2ca9ef2dfed3"
      },
      "execution_count": null,
      "outputs": [
        {
          "output_type": "display_data",
          "data": {
            "text/plain": [
              "  0%|          | 0/246 [00:00<?, ?it/s]"
            ],
            "application/vnd.jupyter.widget-view+json": {
              "version_major": 2,
              "version_minor": 0,
              "model_id": "ac2edaf75b654eb58baac37bf944c8ec"
            }
          },
          "metadata": {}
        },
        {
          "output_type": "execute_result",
          "data": {
            "text/plain": [
              "[0, 0, 0, 0, 0, 0, 0, 0, 0, 0, 0, 0, 0, 0, 0, 0, 0, 0, 0, 1]"
            ]
          },
          "metadata": {},
          "execution_count": 78
        }
      ]
    },
    {
      "cell_type": "code",
      "source": [
        "metric_measures(valid_df, preds)"
      ],
      "metadata": {
        "colab": {
          "base_uri": "https://localhost:8080/"
        },
        "id": "LefQDkZtDu7B",
        "outputId": "7431c766-6f5b-4b05-b691-4b636a55ad9b"
      },
      "execution_count": null,
      "outputs": [
        {
          "output_type": "stream",
          "name": "stdout",
          "text": [
            "F1 Score (Micro) = 0.5473145780051151\n",
            "F1 Score (Macro) = 0.37185516078339154\n"
          ]
        }
      ]
    },
    {
      "cell_type": "markdown",
      "source": [
        "# Convert to ONNX"
      ],
      "metadata": {
        "id": "OGk37-eOI83k"
      }
    },
    {
      "cell_type": "code",
      "source": [
        "model_path = \"models/resume-classifier-stage-01.pkl\"\n",
        "learner_inf = load_learner(model_path)"
      ],
      "metadata": {
        "id": "m1GEDa3iK6fp"
      },
      "execution_count": null,
      "outputs": []
    },
    {
      "cell_type": "code",
      "source": [
        "classifier = learner_inf.model.hf_model.eval()\n",
        "\n",
        "torch.onnx.export(\n",
        "    classifier,\n",
        "    torch.LongTensor([[0] * 512]),\n",
        "    'models/resume-classifier2.onnx',\n",
        "    input_names=['input_ids'],\n",
        "    output_names=['output'],\n",
        "    opset_version=13,\n",
        "    dynamic_axes={\n",
        "        'input_ids': {0: 'batch_size', 1: 'sequence_len'},\n",
        "        'output': {0: 'batch_size'}\n",
        "    }\n",
        ")"
      ],
      "metadata": {
        "id": "L70lkPbHJAMP"
      },
      "execution_count": null,
      "outputs": []
    },
    {
      "cell_type": "code",
      "source": [
        "from onnxruntime.quantization import quantize_dynamic, QuantType\n",
        "\n",
        "onnx_model_path = 'models/resume-classifier2.onnx'\n",
        "quantized_onnx_model_path = 'models/resume-classifier-quantized2.onnx'\n",
        "\n",
        "quantize_dynamic(\n",
        "    onnx_model_path,\n",
        "    quantized_onnx_model_path,\n",
        "    weight_type=QuantType.QUInt8,\n",
        ")"
      ],
      "metadata": {
        "colab": {
          "base_uri": "https://localhost:8080/"
        },
        "id": "MlCiUB_6LPmO",
        "outputId": "26b8b982-7a33-4bde-8bac-735db3e4a308"
      },
      "execution_count": null,
      "outputs": [
        {
          "output_type": "stream",
          "name": "stdout",
          "text": [
            "Ignore MatMul due to non constant B: /[/roberta/encoder/layer.0/attention/self/MatMul]\n",
            "Ignore MatMul due to non constant B: /[/roberta/encoder/layer.0/attention/self/MatMul_1]\n",
            "Ignore MatMul due to non constant B: /[/roberta/encoder/layer.1/attention/self/MatMul]\n",
            "Ignore MatMul due to non constant B: /[/roberta/encoder/layer.1/attention/self/MatMul_1]\n",
            "Ignore MatMul due to non constant B: /[/roberta/encoder/layer.2/attention/self/MatMul]\n",
            "Ignore MatMul due to non constant B: /[/roberta/encoder/layer.2/attention/self/MatMul_1]\n",
            "Ignore MatMul due to non constant B: /[/roberta/encoder/layer.3/attention/self/MatMul]\n",
            "Ignore MatMul due to non constant B: /[/roberta/encoder/layer.3/attention/self/MatMul_1]\n",
            "Ignore MatMul due to non constant B: /[/roberta/encoder/layer.4/attention/self/MatMul]\n",
            "Ignore MatMul due to non constant B: /[/roberta/encoder/layer.4/attention/self/MatMul_1]\n",
            "Ignore MatMul due to non constant B: /[/roberta/encoder/layer.5/attention/self/MatMul]\n",
            "Ignore MatMul due to non constant B: /[/roberta/encoder/layer.5/attention/self/MatMul_1]\n"
          ]
        }
      ]
    },
    {
      "cell_type": "markdown",
      "source": [
        "# ONNX Inference"
      ],
      "metadata": {
        "id": "cXpFGJ4BLjjZ"
      }
    },
    {
      "cell_type": "markdown",
      "source": [
        "## Normal ONNX"
      ],
      "metadata": {
        "id": "dnAvM_OULzYi"
      }
    },
    {
      "cell_type": "code",
      "source": [
        "import onnxruntime as rt\n",
        "from transformers import AutoTokenizer\n",
        "import torch\n",
        "\n",
        "tokenizer = AutoTokenizer.from_pretrained(\"distilroberta-base\")\n",
        "\n",
        "class_labels = list(encode_category_types.keys())\n",
        "\n",
        "inf_session = rt.InferenceSession('models/resume-classifier.onnx')\n",
        "input_name = inf_session.get_inputs()[0].name\n",
        "output_name = inf_session.get_outputs()[0].name"
      ],
      "metadata": {
        "id": "oJ2DTh1ELmeL"
      },
      "execution_count": null,
      "outputs": []
    },
    {
      "cell_type": "code",
      "source": [
        "preds = []\n",
        "for idx, row in tqdm(valid_df.iterrows(), total=valid_df.shape[0]):\n",
        "    resume = row['Resume_str']\n",
        "    input_ids = tokenizer(resume)['input_ids'][:512]\n",
        "\n",
        "    probs = inf_session.run([output_name], {input_name: [input_ids]})[0]\n",
        "    probs = torch.FloatTensor(probs)\n",
        "\n",
        "    masks = torch.sigmoid(probs) >= 0.5\n",
        "    masks = masks[0]  # Select the masks for the current example\n",
        "\n",
        "    labels = [class_labels[idx] for idx, mask in enumerate(masks) if mask]\n",
        "\n",
        "    pred_Category = [0] * len(encode_category_types)\n",
        "    for label in labels:\n",
        "        pred_Category[encode_category_types[label]] = 1\n",
        "    preds.append(pred_Category)"
      ],
      "metadata": {
        "id": "lyuFnkQGonY-"
      },
      "execution_count": null,
      "outputs": []
    },
    {
      "cell_type": "code",
      "source": [
        "print(class_labels)\n"
      ],
      "metadata": {
        "colab": {
          "base_uri": "https://localhost:8080/"
        },
        "id": "LnI3q3DXqM6B",
        "outputId": "f6839808-3caf-492a-bad0-ea240c754f9e"
      },
      "execution_count": null,
      "outputs": [
        {
          "output_type": "stream",
          "name": "stdout",
          "text": [
            "['HR', 'DESIGNER', 'INFORMATION-TECHNOLOGY', 'TEACHER', 'ADVOCATE', 'BUSINESS-DEVELOPMENT', 'HEALTHCARE', 'FITNESS', 'AGRICULTURE', 'SALES', 'CONSULTANT', 'DIGITAL-MEDIA', 'AUTOMOBILE', 'CHEF', 'FINANCE', 'APPAREL', 'ENGINEERING', 'ACCOUNTANT', 'CONSTRUCTION', 'PUBLIC-RELATIONS', 'BANKING', 'ARTS', 'AVIATION']\n"
          ]
        }
      ]
    },
    {
      "cell_type": "code",
      "source": [
        "metric_measures(valid_df, preds)"
      ],
      "metadata": {
        "colab": {
          "base_uri": "https://localhost:8080/"
        },
        "id": "svMa5SB6NGVN",
        "outputId": "059a110f-e4a0-4aaa-b395-2642cc1c9fab"
      },
      "execution_count": null,
      "outputs": [
        {
          "output_type": "stream",
          "name": "stdout",
          "text": [
            "F1 Score (Micro) = 0.5344628417404698\n",
            "F1 Score (Macro) = 0.17663352752647468\n"
          ]
        }
      ]
    },
    {
      "cell_type": "markdown",
      "source": [
        "## Quantized ONNX"
      ],
      "metadata": {
        "id": "7X00cpvON8ja"
      }
    },
    {
      "cell_type": "code",
      "source": [
        "import onnxruntime as rt\n",
        "from transformers import AutoTokenizer\n",
        "import torch\n",
        "\n",
        "tokenizer = AutoTokenizer.from_pretrained(\"distilroberta-base\")\n",
        "\n",
        "class_labels = list(encode_category_types.keys())\n",
        "\n",
        "inf_session = rt.InferenceSession('models/resume-classifier-quantized2.onnx')\n",
        "input_name = inf_session.get_inputs()[0].name\n",
        "output_name = inf_session.get_outputs()[0].name"
      ],
      "metadata": {
        "id": "YXQvwlTjN35N"
      },
      "execution_count": null,
      "outputs": []
    },
    {
      "cell_type": "code",
      "source": [
        "preds = []\n",
        "for idx, row in tqdm(valid_df.iterrows(), total=valid_df.shape[0]):\n",
        "    resume = row['Resume_str']\n",
        "    input_ids = tokenizer(resume)['input_ids'][:512]\n",
        "\n",
        "    probs = inf_session.run([output_name], {input_name: [input_ids]})[0]\n",
        "    probs = torch.FloatTensor(probs)\n",
        "\n",
        "    masks = torch.sigmoid(probs) >= 0.5\n",
        "\n",
        "    pred_Category = [0] * len(encode_category_types)\n",
        "    for idx, mask in enumerate(masks[0]):\n",
        "        try:\n",
        "            if mask:\n",
        "                label = class_labels[idx]\n",
        "                index = encode_category_types[label]\n",
        "                pred_Category[index] = 1\n",
        "        except IndexError:\n",
        "            pass  # Skip if index is out of range\n",
        "    preds.append(pred_Category)\n"
      ],
      "metadata": {
        "colab": {
          "base_uri": "https://localhost:8080/",
          "height": 49,
          "referenced_widgets": [
            "f8cce09b1c38422c8a6b914a37449144",
            "5b59fa939f104a829db63397f1df3ace",
            "64ae8d6ed15b411a86607903119af384",
            "3af839ef827e459ebf765d18d3fc60c7",
            "6eb13edd417748d59d3ec8182cd47f5d",
            "9c0d71d1f7e84e39abd534dfc6b5278e",
            "59ab1c184c1c4651ab7fb8a790dcf802",
            "fd478c9616d4477e86f17306a2948de5",
            "bdfb542dd92744eb99ebc26ecf328fe3",
            "ea06eb10484e44e488d722430fa35e14",
            "5e37c3a4b5cd4a5a93346852771d86d6"
          ]
        },
        "id": "njE8ZnVSxHm_",
        "outputId": "e9997624-b732-4e6e-f57a-c73a7666b8db"
      },
      "execution_count": null,
      "outputs": [
        {
          "output_type": "display_data",
          "data": {
            "text/plain": [
              "  0%|          | 0/246 [00:00<?, ?it/s]"
            ],
            "application/vnd.jupyter.widget-view+json": {
              "version_major": 2,
              "version_minor": 0,
              "model_id": "f8cce09b1c38422c8a6b914a37449144"
            }
          },
          "metadata": {}
        }
      ]
    },
    {
      "cell_type": "code",
      "source": [
        "metric_measures(valid_df, preds) #"
      ],
      "metadata": {
        "colab": {
          "base_uri": "https://localhost:8080/"
        },
        "id": "HzqtaeWbOFmJ",
        "outputId": "d4456a08-ab2c-457f-e20d-eddda05b68a8"
      },
      "execution_count": null,
      "outputs": [
        {
          "output_type": "stream",
          "name": "stdout",
          "text": [
            "F1 Score (Micro) = 0.21333333333333332\n",
            "F1 Score (Macro) = 0.13433622976600845\n"
          ]
        }
      ]
    }
  ]
}